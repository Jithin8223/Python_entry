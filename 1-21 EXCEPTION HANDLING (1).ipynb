{
 "cells": [
  {
   "cell_type": "markdown",
   "metadata": {},
   "source": [
    "# 21: EXCEPTION HANDLING"
   ]
  },
  {
   "cell_type": "code",
   "execution_count": 1,
   "metadata": {},
   "outputs": [
    {
     "name": "stdout",
     "output_type": "stream",
     "text": [
      "The Result is:  0.9230769230769231\n",
      "Our Program is Working Perfectly\n"
     ]
    }
   ],
   "source": [
    "x=input(\"Enter 1st Number: \")\n",
    "y=input(\"Enter 2nd Number: \")\n",
    "\n",
    "\n",
    "    \n",
    "z=int(x)/int(y)\n",
    "print(\"The Result is: \",z)\n",
    "\n",
    "print(\"Our Program is Working Perfectly\")\n"
   ]
  },
  {
   "cell_type": "code",
   "execution_count": 4,
   "metadata": {},
   "outputs": [
    {
     "name": "stdout",
     "output_type": "stream",
     "text": [
      "Enter 1st Number: 50\n",
      "Enter 2nd Number: 0\n",
      "division by zero  Exception Happened\n",
      "The Result is:  None\n",
      "Our Program is Working Perfectly\n"
     ]
    }
   ],
   "source": [
    "x=input(\"Enter 1st Number: \")\n",
    "y=input(\"Enter 2nd Number: \")\n",
    "\n",
    "try:\n",
    "    z=int(x)/int(y)\n",
    "except Exception as e:\n",
    "    print(e,\" Exception Happened\")\n",
    "    z=None\n",
    "    \n",
    "print(\"The Result is: \",z)\n",
    "\n",
    "print(\"Our Program is Working Perfectly\")\n"
   ]
  },
  {
   "cell_type": "code",
   "execution_count": 6,
   "metadata": {},
   "outputs": [
    {
     "name": "stdout",
     "output_type": "stream",
     "text": [
      "Enter 1st Number: 50\n",
      "Enter 2nd Number: O\n",
      "invalid literal for int() with base 10: 'O'  Exception Happened\n",
      "The Result is:  None\n",
      "Our Program is Working Perfectly\n"
     ]
    }
   ],
   "source": [
    "x=input(\"Enter 1st Number: \")\n",
    "y=input(\"Enter 2nd Number: \")\n",
    "\n",
    "try:\n",
    "    z=int(x)/int(y)\n",
    "except Exception as e:\n",
    "    print(e,\" Exception Happened\")\n",
    "    z=None\n",
    "    \n",
    "print(\"The Result is: \",z)\n",
    "\n",
    "print(\"Our Program is Working Perfectly\")\n"
   ]
  },
  {
   "cell_type": "code",
   "execution_count": null,
   "metadata": {},
   "outputs": [],
   "source": []
  }
 ],
 "metadata": {
  "kernelspec": {
   "display_name": "Python 3 (ipykernel)",
   "language": "python",
   "name": "python3"
  },
  "language_info": {
   "codemirror_mode": {
    "name": "ipython",
    "version": 3
   },
   "file_extension": ".py",
   "mimetype": "text/x-python",
   "name": "python",
   "nbconvert_exporter": "python",
   "pygments_lexer": "ipython3",
   "version": "3.12.1"
  }
 },
 "nbformat": 4,
 "nbformat_minor": 2
}
