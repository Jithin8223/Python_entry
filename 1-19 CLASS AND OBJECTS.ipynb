{
 "cells": [
  {
   "cell_type": "markdown",
   "metadata": {
    "id": "lsIIhb22LL9W"
   },
   "source": [
    "# 19: CLASS AND OBJECTS"
   ]
  },
  {
   "cell_type": "code",
   "execution_count": null,
   "metadata": {
    "colab": {
     "base_uri": "https://localhost:8080/",
     "height": 562
    },
    "executionInfo": {
     "elapsed": 8269,
     "status": "error",
     "timestamp": 1635060148760,
     "user": {
      "displayName": "Prateesh",
      "photoUrl": "https://lh3.googleusercontent.com/a-/AOh14GgOi9yMV7hExM-A-_-94m9hAQB9-4WLSWKyUBWssQ=s64",
      "userId": "12632576789719813252"
     },
     "user_tz": -330
    },
    "id": "agQsNs_BLaVA",
    "outputId": "a9e32828-ea26-4311-9c1d-b81f2647b22f"
   },
   "outputs": [],
   "source": [
    "from google.colab import drive\n",
    "drive.mount('/content/drive')"
   ]
  },
  {
   "cell_type": "markdown",
   "metadata": {
    "id": "H4h1n3BKLL9Y"
   },
   "source": [
    "![](class.png)"
   ]
  },
  {
   "cell_type": "markdown",
   "metadata": {
    "id": "hoLlxCG8LL9Z"
   },
   "source": [
    "![](object.png)"
   ]
  },
  {
   "cell_type": "code",
   "execution_count": null,
   "metadata": {
    "id": "CC9y6wvLLL9Z"
   },
   "outputs": [],
   "source": [
    "class Human:\n",
    "    def __init__(self,n,o):\n",
    "        self.name=n\n",
    "        self.occupation=o\n",
    "        \n",
    "    def do_work(self):\n",
    "        if(self.occupation==\"actor\"):\n",
    "            print(self.name,\"acting movies\")\n",
    "        elif(self.occupation==\"player\"):\n",
    "            print(self.name,\"is a good player\")\n",
    "    def speak(self):\n",
    "        print(\"Try to succeed in your career\")"
   ]
  },
  {
   "cell_type": "code",
   "execution_count": 3,
   "metadata": {
    "id": "2Aj4N8BWLL9a",
    "outputId": "f9bff14e-1444-43d7-9927-bf92a400771a"
   },
   "outputs": [
    {
     "ename": "NameError",
     "evalue": "name 'Human' is not defined",
     "output_type": "error",
     "traceback": [
      "\u001b[1;31m---------------------------------------------------------------------------\u001b[0m",
      "\u001b[1;31mNameError\u001b[0m                                 Traceback (most recent call last)",
      "Input \u001b[1;32mIn [3]\u001b[0m, in \u001b[0;36m<cell line: 1>\u001b[1;34m()\u001b[0m\n\u001b[1;32m----> 1\u001b[0m Tom\u001b[38;5;241m=\u001b[39m\u001b[43mHuman\u001b[49m(\u001b[38;5;124m\"\u001b[39m\u001b[38;5;124mTom Cruise\u001b[39m\u001b[38;5;124m\"\u001b[39m,\u001b[38;5;124m\"\u001b[39m\u001b[38;5;124mactor\u001b[39m\u001b[38;5;124m\"\u001b[39m)\n\u001b[0;32m      2\u001b[0m Tom\u001b[38;5;241m.\u001b[39mdo_work()\n\u001b[0;32m      3\u001b[0m Tom\u001b[38;5;241m.\u001b[39mspeak()\n",
      "\u001b[1;31mNameError\u001b[0m: name 'Human' is not defined"
     ]
    }
   ],
   "source": [
    "Tom=Human(\"Tom Cruise\",\"actor\")\n",
    "Tom.do_work()\n",
    "Tom.speak()"
   ]
  },
  {
   "cell_type": "code",
   "execution_count": 4,
   "metadata": {
    "id": "7xSGNJL3LL9a",
    "outputId": "8535b443-f4e3-459b-ebff-b52ab8557824"
   },
   "outputs": [
    {
     "ename": "NameError",
     "evalue": "name 'Human' is not defined",
     "output_type": "error",
     "traceback": [
      "\u001b[1;31m---------------------------------------------------------------------------\u001b[0m",
      "\u001b[1;31mNameError\u001b[0m                                 Traceback (most recent call last)",
      "Input \u001b[1;32mIn [4]\u001b[0m, in \u001b[0;36m<cell line: 1>\u001b[1;34m()\u001b[0m\n\u001b[1;32m----> 1\u001b[0m maria\u001b[38;5;241m=\u001b[39m\u001b[43mHuman\u001b[49m(\u001b[38;5;124m\"\u001b[39m\u001b[38;5;124mMaria Sharapova\u001b[39m\u001b[38;5;124m\"\u001b[39m,\u001b[38;5;124m\"\u001b[39m\u001b[38;5;124mplayer\u001b[39m\u001b[38;5;124m\"\u001b[39m)\n\u001b[0;32m      2\u001b[0m maria\u001b[38;5;241m.\u001b[39mdo_work()\n\u001b[0;32m      3\u001b[0m maria\u001b[38;5;241m.\u001b[39mspeak()\n",
      "\u001b[1;31mNameError\u001b[0m: name 'Human' is not defined"
     ]
    }
   ],
   "source": [
    "maria=Human(\"Maria Sharapova\",\"player\")\n",
    "maria.do_work()\n",
    "maria.speak()"
   ]
  },
  {
   "cell_type": "code",
   "execution_count": 5,
   "metadata": {
    "id": "m6LyKSM3LL9b",
    "outputId": "1b559be4-1c31-4d23-fc63-3d27a3126fc8"
   },
   "outputs": [
    {
     "name": "stdout",
     "output_type": "stream",
     "text": [
      "SB Account with Amount 10000\n",
      "SB Account with Amount 16000\n",
      "SB Account with Amount 9000\n",
      "SB Account with Amount 15000\n"
     ]
    }
   ],
   "source": [
    "class BankAccount:\n",
    "\tdef __init__(self,Type,Amount):\n",
    "\t\tself.Type=Type\n",
    "\t\tself.Amount=Amount\n",
    "\n",
    "\tdef __str__(self):\n",
    "\t\treturn\"{} Account with Amount {}\".format(self.Type,self.Amount)\n",
    "\n",
    "\tdef deposit(self,deposit_amount):\n",
    "\t\tself.Amount+=deposit_amount\n",
    "\t\t\n",
    "\tdef withdraw(self,withdraw_amount):\n",
    "\t\tself.Amount-=withdraw_amount\n",
    "\n",
    "\n",
    "Fairoos= BankAccount(\"SB\",10000)\n",
    "print(Fairoos)\n",
    "Fairoos.deposit(6000)\n",
    "print(Fairoos)\n",
    "Fairoos.withdraw(7000)\n",
    "print(Fairoos)\n",
    "Fairoos.deposit(6000)\n",
    "print(Fairoos)"
   ]
  },
  {
   "cell_type": "code",
   "execution_count": 6,
   "metadata": {
    "id": "uzv12ULqLL9c",
    "outputId": "b3a7199b-0b90-4c8c-9839-f6b9dfc44dca"
   },
   "outputs": [
    {
     "name": "stdout",
     "output_type": "stream",
     "text": [
      "SB Account with Amount 5000\n",
      "SB Account with Amount 7000\n",
      "SB Account with Amount 4000\n"
     ]
    }
   ],
   "source": [
    "Antony= BankAccount(\"SB\",5000)\n",
    "print(Antony)\n",
    "Antony.deposit(2000)\n",
    "print(Antony)\n",
    "Antony.withdraw(3000)\n",
    "print(Antony)"
   ]
  },
  {
   "cell_type": "code",
   "execution_count": null,
   "metadata": {},
   "outputs": [],
   "source": []
  }
 ],
 "metadata": {
  "colab": {
   "name": "1-19 CLASS AND OBJECTS.ipynb",
   "provenance": [],
   "toc_visible": true
  },
  "kernelspec": {
   "display_name": "Python 3 (ipykernel)",
   "language": "python",
   "name": "python3"
  },
  "language_info": {
   "codemirror_mode": {
    "name": "ipython",
    "version": 3
   },
   "file_extension": ".py",
   "mimetype": "text/x-python",
   "name": "python",
   "nbconvert_exporter": "python",
   "pygments_lexer": "ipython3",
   "version": "3.10.4"
  }
 },
 "nbformat": 4,
 "nbformat_minor": 1
}
