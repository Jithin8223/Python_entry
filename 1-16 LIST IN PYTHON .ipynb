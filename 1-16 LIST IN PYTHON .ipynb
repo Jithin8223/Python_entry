{
 "cells": [
  {
   "cell_type": "markdown",
   "metadata": {
    "id": "UzVZ4ZXGhN8n"
   },
   "source": [
    "# 16: LIST IN PYTHON\n",
    "Python has four basic inbuilt data structures namely Lists, Dictionary, Tuple and Set. These almost cover 80% of the our real world data structures. "
   ]
  },
  {
   "cell_type": "code",
   "execution_count": 1,
   "metadata": {
    "executionInfo": {
     "elapsed": 9,
     "status": "ok",
     "timestamp": 1650819705646,
     "user": {
      "displayName": "Anitha v m",
      "userId": "06705357179175239096"
     },
     "user_tz": -330
    },
    "id": "l-owrqklhN8s"
   },
   "outputs": [],
   "source": [
    "Roll_No=45\n",
    "name=\"John\"\n",
    "WEIGHT=65.8"
   ]
  },
  {
   "cell_type": "code",
   "execution_count": null,
   "metadata": {
    "colab": {
     "base_uri": "https://localhost:8080/"
    },
    "executionInfo": {
     "elapsed": 393,
     "status": "ok",
     "timestamp": 1650819729911,
     "user": {
      "displayName": "Anitha v m",
      "userId": "06705357179175239096"
     },
     "user_tz": -330
    },
    "id": "vTSelmhahN8u",
    "outputId": "6137f137-c039-4da4-f25a-6f430de2571f"
   },
   "outputs": [],
   "source": [
    "#Creating a List\n",
    "num=[]\n",
    "type(num)"
   ]
  },
  {
   "cell_type": "code",
   "execution_count": null,
   "metadata": {
    "colab": {
     "base_uri": "https://localhost:8080/",
     "height": 35
    },
    "executionInfo": {
     "elapsed": 334,
     "status": "ok",
     "timestamp": 1650819829960,
     "user": {
      "displayName": "Anitha v m",
      "userId": "06705357179175239096"
     },
     "user_tz": -330
    },
    "id": "-n45uT8dhN8w",
    "outputId": "4b1438bf-f20e-4a2d-a819-3578e8641f12"
   },
   "outputs": [],
   "source": [
    "students=['Amal','Akshay','Azan','Lilly','Jack','Jerry']\n",
    "students[0]"
   ]
  },
  {
   "cell_type": "code",
   "execution_count": null,
   "metadata": {
    "id": "TuOPX2m0hN8x",
    "outputId": "2e9dfd5e-036e-4f91-c202-f14c681f4099"
   },
   "outputs": [],
   "source": [
    "students[3]"
   ]
  },
  {
   "cell_type": "code",
   "execution_count": null,
   "metadata": {
    "id": "We9qf-9bhN8y",
    "outputId": "8c9e1187-5060-467e-e8c1-e2d809f7ed3a"
   },
   "outputs": [],
   "source": [
    "students[:3]"
   ]
  },
  {
   "cell_type": "code",
   "execution_count": null,
   "metadata": {
    "id": "FXiLbUdWhN8y"
   },
   "outputs": [],
   "source": [
    "students[5]='Jithin'"
   ]
  },
  {
   "cell_type": "code",
   "execution_count": null,
   "metadata": {
    "id": "E4qg4t0BhN8z",
    "outputId": "6ff29b6b-6e2b-4c85-a0df-909a83c6946f"
   },
   "outputs": [],
   "source": [
    "students"
   ]
  },
  {
   "cell_type": "code",
   "execution_count": null,
   "metadata": {
    "id": "yeVvud4rhN80"
   },
   "outputs": [],
   "source": [
    "students.append(\"Raju\")"
   ]
  },
  {
   "cell_type": "code",
   "execution_count": null,
   "metadata": {
    "colab": {
     "base_uri": "https://localhost:8080/"
    },
    "executionInfo": {
     "elapsed": 324,
     "status": "ok",
     "timestamp": 1650820097824,
     "user": {
      "displayName": "Anitha v m",
      "userId": "06705357179175239096"
     },
     "user_tz": -330
    },
    "id": "JjpVqUUxhN81",
    "outputId": "551b5821-7a84-466b-d775-39f65986a832"
   },
   "outputs": [],
   "source": [
    "students.append(\"Anitha\")\n",
    "students"
   ]
  },
  {
   "cell_type": "code",
   "execution_count": null,
   "metadata": {
    "id": "w8WY8jPZhN82",
    "outputId": "091be4c1-8961-41d2-8c92-554282a8a6db"
   },
   "outputs": [],
   "source": [
    "mark=[45,43.23,'nine']\n",
    "type(mark[2])"
   ]
  },
  {
   "cell_type": "code",
   "execution_count": 1,
   "metadata": {
    "id": "nYakw5zShN83",
    "outputId": "7b60052a-a1bb-492f-e63d-bb8dff5469f6"
   },
   "outputs": [
    {
     "data": {
      "text/plain": [
       "'banana'"
      ]
     },
     "execution_count": 1,
     "metadata": {},
     "output_type": "execute_result"
    }
   ],
   "source": [
    "x=['apple','banana']\n",
    "y=['orange','lemon']\n",
    "z=[x,y]\n",
    "z[0][1]"
   ]
  },
  {
   "cell_type": "code",
   "execution_count": null,
   "metadata": {
    "colab": {
     "base_uri": "https://localhost:8080/"
    },
    "executionInfo": {
     "elapsed": 304,
     "status": "ok",
     "timestamp": 1650820195511,
     "user": {
      "displayName": "Anitha v m",
      "userId": "06705357179175239096"
     },
     "user_tz": -330
    },
    "id": "tCL-4O-0hN84",
    "outputId": "9ec4078f-8cba-4fb9-a498-bcea3e3217e1"
   },
   "outputs": [],
   "source": [
    "students.sort()\n",
    "students"
   ]
  },
  {
   "cell_type": "code",
   "execution_count": null,
   "metadata": {
    "id": "H74gAh3ahN85",
    "outputId": "c20d8d2f-6d57-4a9f-da47-3e57a9a4ae8e"
   },
   "outputs": [],
   "source": [
    "students.reverse()\n",
    "students"
   ]
  },
  {
   "cell_type": "code",
   "execution_count": null,
   "metadata": {
    "id": "RQ1M1s2DhN86"
   },
   "outputs": [],
   "source": [
    "marks=[98,67,85,90,75,82,60]"
   ]
  },
  {
   "cell_type": "code",
   "execution_count": null,
   "metadata": {
    "colab": {
     "base_uri": "https://localhost:8080/",
     "height": 200
    },
    "executionInfo": {
     "elapsed": 311,
     "status": "error",
     "timestamp": 1650820255540,
     "user": {
      "displayName": "Anitha v m",
      "userId": "06705357179175239096"
     },
     "user_tz": -330
    },
    "id": "o_2ZCsLahN86",
    "outputId": "67d63246-f628-490d-a923-2150dcf7e161"
   },
   "outputs": [],
   "source": [
    "#Append an item to list\n",
    "marks.append(\"61\")\n",
    "marks"
   ]
  },
  {
   "cell_type": "code",
   "execution_count": null,
   "metadata": {
    "colab": {
     "background_save": true
    },
    "id": "3p1AA536hN87"
   },
   "outputs": [],
   "source": [
    "#Remove an item by value: remove()\n",
    "marks.remove(98)\n",
    "marks"
   ]
  },
  {
   "cell_type": "code",
   "execution_count": null,
   "metadata": {
    "id": "8gp535hqhN87",
    "outputId": "6053aa69-f507-4f01-976f-5c3bae416a47"
   },
   "outputs": [],
   "source": [
    "#Remove items by index or slice: del\n",
    "del(marks[0:1])\n",
    "marks"
   ]
  },
  {
   "cell_type": "code",
   "execution_count": null,
   "metadata": {
    "id": "kiDB-0LuhN88",
    "outputId": "74b78256-7912-48de-b5ca-575faefb3655"
   },
   "outputs": [],
   "source": [
    "max(marks)"
   ]
  },
  {
   "cell_type": "code",
   "execution_count": null,
   "metadata": {
    "id": "06EeQkpihN88",
    "outputId": "b665d7c9-f3c3-4945-8416-93823aa0a82f"
   },
   "outputs": [],
   "source": [
    "min(marks)"
   ]
  },
  {
   "cell_type": "markdown",
   "metadata": {
    "id": "foJxUNLfhN89"
   },
   "source": [
    "Link for Ref: \n",
    "    https://docs.python.org/3/tutorial/datastructures.html"
   ]
  },
  {
   "cell_type": "code",
   "execution_count": null,
   "metadata": {},
   "outputs": [],
   "source": [
    ">>> fruits = ['orange', 'apple', 'pear', 'banana', 'kiwi', 'apple', 'banana']\n",
    ">>> fruits.count('apple')\n",
    "2\n",
    ">>> fruits.count('tangerine')\n",
    "0\n",
    ">>> fruits.index('banana')\n",
    "3\n",
    ">>> fruits.index('banana', 4)  # Find next banana starting a position 4\n",
    "6\n",
    ">>> fruits.reverse()\n",
    ">>> fruits\n",
    "['banana', 'apple', 'kiwi', 'banana', 'pear', 'apple', 'orange']\n",
    ">>> fruits.append('grape')\n",
    ">>> fruits\n",
    "['banana', 'apple', 'kiwi', 'banana', 'pear', 'apple', 'orange', 'grape']\n",
    ">>> fruits.sort()\n",
    ">>> fruits\n",
    "['apple', 'apple', 'banana', 'banana', 'grape', 'kiwi', 'orange', 'pear']\n",
    ">>> fruits.pop()\n",
    "'pear'"
   ]
  },
  {
   "cell_type": "code",
   "execution_count": null,
   "metadata": {},
   "outputs": [],
   "source": []
  }
 ],
 "metadata": {
  "colab": {
   "name": "1-16 LIST IN PYTHON .ipynb",
   "version": ""
  },
  "kernelspec": {
   "display_name": "Python 3 (ipykernel)",
   "language": "python",
   "name": "python3"
  },
  "language_info": {
   "codemirror_mode": {
    "name": "ipython",
    "version": 3
   },
   "file_extension": ".py",
   "mimetype": "text/x-python",
   "name": "python",
   "nbconvert_exporter": "python",
   "pygments_lexer": "ipython3",
   "version": "3.12.1"
  }
 },
 "nbformat": 4,
 "nbformat_minor": 1
}
