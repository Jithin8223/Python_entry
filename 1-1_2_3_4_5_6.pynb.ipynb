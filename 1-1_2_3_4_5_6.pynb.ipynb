{
 "cells": [
  {
   "cell_type": "markdown",
   "metadata": {},
   "source": [
    "# 1: HOW TO INSTALL PYTHON OR ANACONDA"
   ]
  },
  {
   "cell_type": "markdown",
   "metadata": {},
   "source": [
    "TO INSTALL PYTHON:\n",
    "    DOWNLOAD FROM www.python.org\n",
    "TO INSTALL ANACONDA:\n",
    "    DOWNLOAD FROM https://www.anaconda.com/products/individual\n"
   ]
  },
  {
   "cell_type": "markdown",
   "metadata": {},
   "source": [
    "# 2:JUPYTER NOTEBOOK- HOW IT WORKS"
   ]
  },
  {
   "cell_type": "markdown",
   "metadata": {},
   "source": [
    "pip install jupyter OR pip3 install jupyter OR python -m pip install jupyter OR python -m pip3 install jupyter"
   ]
  },
  {
   "cell_type": "code",
   "execution_count": null,
   "metadata": {},
   "outputs": [],
   "source": [
    "print(\"Hello World of Joy\")"
   ]
  },
  {
   "cell_type": "code",
   "execution_count": null,
   "metadata": {},
   "outputs": [],
   "source": [
    "6+6"
   ]
  },
  {
   "cell_type": "code",
   "execution_count": null,
   "metadata": {},
   "outputs": [],
   "source": [
    "55*10"
   ]
  },
  {
   "cell_type": "code",
   "execution_count": null,
   "metadata": {},
   "outputs": [],
   "source": [
    "66/6"
   ]
  },
  {
   "cell_type": "code",
   "execution_count": null,
   "metadata": {},
   "outputs": [],
   "source": [
    "44.4/2"
   ]
  },
  {
   "cell_type": "markdown",
   "metadata": {},
   "source": [
    "# 3: What is a MODULE?"
   ]
  },
  {
   "cell_type": "markdown",
   "metadata": {},
   "source": [
    "![](module.jpg)"
   ]
  },
  {
   "cell_type": "markdown",
   "metadata": {},
   "source": []
  },
  {
   "cell_type": "markdown",
   "metadata": {},
   "source": []
  },
  {
   "cell_type": "code",
   "execution_count": null,
   "metadata": {},
   "outputs": [],
   "source": [
    "import turtle as t\n",
    "\n"
   ]
  },
  {
   "cell_type": "markdown",
   "metadata": {},
   "source": [
    "DRAWING A SQUARE"
   ]
  },
  {
   "cell_type": "code",
   "execution_count": 1,
   "metadata": {},
   "outputs": [],
   "source": [
    "import turtle as t\n",
    "\n",
    "t.forward(100)\n",
    "t.left(90)\n",
    "t.forward(100)\n",
    "t.left(90)\n",
    "t.forward(100)\n",
    "t.left(90)\n",
    "t.forward(100)"
   ]
  },
  {
   "cell_type": "markdown",
   "metadata": {},
   "source": [
    "DRAWING A TRIANGLE"
   ]
  },
  {
   "cell_type": "code",
   "execution_count": null,
   "metadata": {},
   "outputs": [],
   "source": [
    "import turtle as jack"
   ]
  },
  {
   "cell_type": "code",
   "execution_count": 1,
   "metadata": {},
   "outputs": [
    {
     "ename": "",
     "evalue": "",
     "output_type": "error",
     "traceback": [
      "\u001b[1;31mThe Kernel crashed while executing code in the current cell or a previous cell. \n",
      "\u001b[1;31mPlease review the code in the cell(s) to identify a possible cause of the failure. \n",
      "\u001b[1;31mClick <a href='https://aka.ms/vscodeJupyterKernelCrash'>here</a> for more info. \n",
      "\u001b[1;31mView Jupyter <a href='command:jupyter.viewOutput'>log</a> for further details."
     ]
    }
   ],
   "source": [
    "import turtle as jack\n",
    "jack.color(\"indigo\")    #SETTING COLOR INDIGO\n",
    "jack.pensize(5)       #SETTING THICKNESS OF DRAWING\n",
    "jack.forward(200)\n",
    "jack.right(150)\n",
    "jack.forward(200)\n",
    "jack.right(150)\n",
    "jack.forward(200)"
   ]
  },
  {
   "cell_type": "markdown",
   "metadata": {},
   "source": [
    "Module: Another Example"
   ]
  },
  {
   "cell_type": "code",
   "execution_count": 3,
   "metadata": {},
   "outputs": [
    {
     "data": {
      "text/plain": [
       "7"
      ]
     },
     "execution_count": 3,
     "metadata": {},
     "output_type": "execute_result"
    }
   ],
   "source": [
    "import random as rd\n",
    "rd.randint(1,13)"
   ]
  },
  {
   "cell_type": "markdown",
   "metadata": {},
   "source": [
    "![](random.jpeg)"
   ]
  },
  {
   "cell_type": "markdown",
   "metadata": {},
   "source": [
    "Practice:\n",
    "    \n",
    "1. Draw a Square with 200 unit size for each sides\n",
    "2. Draw a Rectangle in blue color with Length =300 and Breadth =100 \n",
    "(Hint turtle.color(\"blue\"))\n",
    "3. There are 20 students in a class room, their ID card numbers are 501,502.....upto 520.\n",
    "Principal announced that one of them can visit an exhibition. \n",
    "For that teacher need to select a student in random. How to do it by using coding."
   ]
  },
  {
   "cell_type": "markdown",
   "metadata": {},
   "source": [
    "# 4: PYTHON PY FILES"
   ]
  },
  {
   "cell_type": "markdown",
   "metadata": {},
   "source": [
    "![](files.jpg)"
   ]
  },
  {
   "cell_type": "code",
   "execution_count": 1,
   "metadata": {},
   "outputs": [],
   "source": [
    "import turtle as ben\n",
    "ben.color(\"brown\")\n",
    "ben.fd(100)\n",
    "ben.lt(90)\n",
    "ben.fd(100)\n",
    "ben.lt(90)\n",
    "ben.fd(100)\n",
    "ben.lt(90)\n",
    "ben.fd(100)"
   ]
  },
  {
   "cell_type": "markdown",
   "metadata": {},
   "source": [
    "Creatng New Files: File2"
   ]
  },
  {
   "cell_type": "code",
   "execution_count": 3,
   "metadata": {},
   "outputs": [
    {
     "ename": "",
     "evalue": "",
     "output_type": "error",
     "traceback": [
      "\u001b[1;31mThe Kernel crashed while executing code in the current cell or a previous cell. \n",
      "\u001b[1;31mPlease review the code in the cell(s) to identify a possible cause of the failure. \n",
      "\u001b[1;31mClick <a href='https://aka.ms/vscodeJupyterKernelCrash'>here</a> for more info. \n",
      "\u001b[1;31mView Jupyter <a href='command:jupyter.viewOutput'>log</a> for further details."
     ]
    }
   ],
   "source": [
    "import turtle\n",
    "\n",
    "turtle.pensize(4)\n",
    "turtle.color(\"indigo\")\n",
    "turtle.forward(100)\n",
    "turtle.left(60)\n",
    "turtle.forward(100)\n",
    "turtle.left(60)\n",
    "turtle.forward(100)\n",
    "turtle.left(60)\n",
    "turtle.forward(100)\n",
    "turtle.left(60)\n",
    "turtle.forward(100)\n",
    "turtle.left(60)\n",
    "turtle.forward(100)"
   ]
  },
  {
   "cell_type": "markdown",
   "metadata": {},
   "source": [
    "Creatng New Files: File3"
   ]
  },
  {
   "cell_type": "code",
   "execution_count": null,
   "metadata": {},
   "outputs": [],
   "source": [
    "import turtle as ben\n",
    "\n",
    "ben.pensize(4)\n",
    "ben.color(\"indigo\")\n",
    "ben.forward(200)\n",
    "ben.left(120)\n",
    "ben.forward(200)\n",
    "ben.left(120)\n",
    "ben.forward(200)\n",
    "\n",
    "ben.color(\"violet\")\n",
    "ben.forward(200)\n",
    "ben.left(120)\n",
    "ben.forward(200)\n",
    "ben.left(120)\n",
    "ben.forward(200)\n",
    "\n",
    "ben.color(\"orange\")\n",
    "ben.forward(200)\n",
    "ben.left(120)\n",
    "ben.forward(200)\n",
    "ben.left(120)\n",
    "ben.forward(200)"
   ]
  },
  {
   "cell_type": "markdown",
   "metadata": {},
   "source": [
    "Practice:\n",
    "   1. Create a new file and write code to draw a blue triangle and red square with\n",
    "    a seperation of 50 units without connecting lines.\n",
    "    Hint: use penup() and pendown() to up and down your pen."
   ]
  },
  {
   "cell_type": "markdown",
   "metadata": {},
   "source": [
    "# 5: FOR LOOPS"
   ]
  },
  {
   "cell_type": "code",
   "execution_count": 2,
   "metadata": {},
   "outputs": [
    {
     "ename": "",
     "evalue": "",
     "output_type": "error",
     "traceback": [
      "\u001b[1;31mThe Kernel crashed while executing code in the current cell or a previous cell. \n",
      "\u001b[1;31mPlease review the code in the cell(s) to identify a possible cause of the failure. \n",
      "\u001b[1;31mClick <a href='https://aka.ms/vscodeJupyterKernelCrash'>here</a> for more info. \n",
      "\u001b[1;31mView Jupyter <a href='command:jupyter.viewOutput'>log</a> for further details."
     ]
    }
   ],
   "source": [
    "import turtle as ben\n",
    "ben.fd(100)\n",
    "ben.lt(90)\n",
    "ben.fd(100)\n",
    "ben.lt(90)\n",
    "ben.fd(100)\n",
    "ben.lt(90)\n",
    "ben.fd(100)\n",
    "ben.lt(90)"
   ]
  },
  {
   "cell_type": "code",
   "execution_count": 3,
   "metadata": {},
   "outputs": [
    {
     "ename": "",
     "evalue": "",
     "output_type": "error",
     "traceback": [
      "\u001b[1;31mThe Kernel crashed while executing code in the current cell or a previous cell. \n",
      "\u001b[1;31mPlease review the code in the cell(s) to identify a possible cause of the failure. \n",
      "\u001b[1;31mClick <a href='https://aka.ms/vscodeJupyterKernelCrash'>here</a> for more info. \n",
      "\u001b[1;31mView Jupyter <a href='command:jupyter.viewOutput'>log</a> for further details."
     ]
    }
   ],
   "source": [
    "import turtle as t\n",
    "t.forward(100)\n",
    "t.left(90)\n",
    "t.forward(100)\n",
    "t.left(90)\n",
    "t.forward(100)\n",
    "t.left(90)\n",
    "t.forward(100)\n",
    "t.left(90)"
   ]
  },
  {
   "cell_type": "code",
   "execution_count": null,
   "metadata": {},
   "outputs": [],
   "source": []
  },
  {
   "cell_type": "code",
   "execution_count": null,
   "metadata": {},
   "outputs": [],
   "source": [
    "for i in range(10):\n",
    "    print(i)"
   ]
  },
  {
   "cell_type": "code",
   "execution_count": null,
   "metadata": {
    "scrolled": true
   },
   "outputs": [],
   "source": [
    "for i in range(1,16):\n",
    "    print(i)"
   ]
  },
  {
   "cell_type": "markdown",
   "metadata": {},
   "source": [
    "Practice: Create a new file to Print 10 multiples of 2,5,and 9 then draw red circles with radius 2,4,6 etc green circles with radius 5,10,15 etc blue circles with radius 9,18,27 etc Hint: turtle.circle(5) to draw a circle with radius 5\n",
    "\n",
    "(Explan about Control Flow)"
   ]
  },
  {
   "cell_type": "markdown",
   "metadata": {},
   "source": [
    "# 6: FOR LOOP SAMPLES"
   ]
  },
  {
   "cell_type": "code",
   "execution_count": null,
   "metadata": {},
   "outputs": [],
   "source": [
    "for i in range(1,101):\n",
    "    print(i)"
   ]
  },
  {
   "cell_type": "code",
   "execution_count": 1,
   "metadata": {},
   "outputs": [
    {
     "name": "stdout",
     "output_type": "stream",
     "text": [
      "1\n",
      "2\n",
      "3\n",
      "4\n",
      "5\n",
      "6\n"
     ]
    },
    {
     "ename": "",
     "evalue": "",
     "output_type": "error",
     "traceback": [
      "\u001b[1;31mThe Kernel crashed while executing code in the current cell or a previous cell. \n",
      "\u001b[1;31mPlease review the code in the cell(s) to identify a possible cause of the failure. \n",
      "\u001b[1;31mClick <a href='https://aka.ms/vscodeJupyterKernelCrash'>here</a> for more info. \n",
      "\u001b[1;31mView Jupyter <a href='command:jupyter.viewOutput'>log</a> for further details."
     ]
    }
   ],
   "source": [
    "import turtle as ben\n",
    "\n",
    "ben.pensize(5)\n",
    "ben.speed(10)\n",
    "\n",
    "for num in range(1,7):\n",
    "    print(num)\n",
    "    ben.circle(30)\n",
    "    ben.rt(60)"
   ]
  },
  {
   "cell_type": "code",
   "execution_count": 1,
   "metadata": {},
   "outputs": [
    {
     "name": "stdout",
     "output_type": "stream",
     "text": [
      "pink\n",
      "red\n",
      "blue\n",
      "green\n",
      "yellow\n",
      "orange\n"
     ]
    }
   ],
   "source": [
    "import turtle as ben \n",
    "ben.pensize(6) \n",
    "ben.speed(4) \n",
    "for i in [\"pink\",\"red\",\"blue\",\"green\",\"yellow\",\"orange\"]: \n",
    "    print (i)\n",
    "    ben.color(i) \n",
    "    ben.circle(30) \n",
    "    ben.rt(30)"
   ]
  },
  {
   "cell_type": "code",
   "execution_count": 1,
   "metadata": {},
   "outputs": [
    {
     "ename": "Terminator",
     "evalue": "",
     "output_type": "error",
     "traceback": [
      "\u001b[1;31m---------------------------------------------------------------------------\u001b[0m",
      "\u001b[1;31mTclError\u001b[0m                                  Traceback (most recent call last)",
      "File \u001b[1;32m<string>:8\u001b[0m, in \u001b[0;36mforward\u001b[1;34m(distance)\u001b[0m\n",
      "File \u001b[1;32mc:\\Users\\kanna\\AppData\\Local\\Programs\\Python\\Python312\\Lib\\turtle.py:1636\u001b[0m, in \u001b[0;36mTNavigator.forward\u001b[1;34m(self, distance)\u001b[0m\n\u001b[0;32m   1616\u001b[0m \u001b[38;5;250m\u001b[39m\u001b[38;5;124;03m\"\"\"Move the turtle forward by the specified distance.\u001b[39;00m\n\u001b[0;32m   1617\u001b[0m \n\u001b[0;32m   1618\u001b[0m \u001b[38;5;124;03mAliases: forward | fd\u001b[39;00m\n\u001b[1;32m   (...)\u001b[0m\n\u001b[0;32m   1634\u001b[0m \u001b[38;5;124;03m(-50.00,0.00)\u001b[39;00m\n\u001b[0;32m   1635\u001b[0m \u001b[38;5;124;03m\"\"\"\u001b[39;00m\n\u001b[1;32m-> 1636\u001b[0m \u001b[38;5;28;43mself\u001b[39;49m\u001b[38;5;241;43m.\u001b[39;49m\u001b[43m_go\u001b[49m\u001b[43m(\u001b[49m\u001b[43mdistance\u001b[49m\u001b[43m)\u001b[49m\n",
      "File \u001b[1;32mc:\\Users\\kanna\\AppData\\Local\\Programs\\Python\\Python312\\Lib\\turtle.py:1597\u001b[0m, in \u001b[0;36mTNavigator._go\u001b[1;34m(self, distance)\u001b[0m\n\u001b[0;32m   1596\u001b[0m ende \u001b[38;5;241m=\u001b[39m \u001b[38;5;28mself\u001b[39m\u001b[38;5;241m.\u001b[39m_position \u001b[38;5;241m+\u001b[39m \u001b[38;5;28mself\u001b[39m\u001b[38;5;241m.\u001b[39m_orient \u001b[38;5;241m*\u001b[39m distance\n\u001b[1;32m-> 1597\u001b[0m \u001b[38;5;28;43mself\u001b[39;49m\u001b[38;5;241;43m.\u001b[39;49m\u001b[43m_goto\u001b[49m\u001b[43m(\u001b[49m\u001b[43mende\u001b[49m\u001b[43m)\u001b[49m\n",
      "File \u001b[1;32mc:\\Users\\kanna\\AppData\\Local\\Programs\\Python\\Python312\\Lib\\turtle.py:3248\u001b[0m, in \u001b[0;36mRawTurtle._goto\u001b[1;34m(self, end)\u001b[0m\n\u001b[0;32m   3247\u001b[0m \u001b[38;5;28;01mif\u001b[39;00m \u001b[38;5;28mself\u001b[39m\u001b[38;5;241m.\u001b[39m_drawing:\n\u001b[1;32m-> 3248\u001b[0m     \u001b[43mscreen\u001b[49m\u001b[38;5;241;43m.\u001b[39;49m\u001b[43m_drawline\u001b[49m\u001b[43m(\u001b[49m\u001b[38;5;28;43mself\u001b[39;49m\u001b[38;5;241;43m.\u001b[39;49m\u001b[43mdrawingLineItem\u001b[49m\u001b[43m,\u001b[49m\n\u001b[0;32m   3249\u001b[0m \u001b[43m                     \u001b[49m\u001b[43m(\u001b[49m\u001b[43mstart\u001b[49m\u001b[43m,\u001b[49m\u001b[43m \u001b[49m\u001b[38;5;28;43mself\u001b[39;49m\u001b[38;5;241;43m.\u001b[39;49m\u001b[43m_position\u001b[49m\u001b[43m)\u001b[49m\u001b[43m,\u001b[49m\n\u001b[0;32m   3250\u001b[0m \u001b[43m                     \u001b[49m\u001b[38;5;28;43mself\u001b[39;49m\u001b[38;5;241;43m.\u001b[39;49m\u001b[43m_pencolor\u001b[49m\u001b[43m,\u001b[49m\u001b[43m \u001b[49m\u001b[38;5;28;43mself\u001b[39;49m\u001b[38;5;241;43m.\u001b[39;49m\u001b[43m_pensize\u001b[49m\u001b[43m,\u001b[49m\u001b[43m \u001b[49m\u001b[43mtop\u001b[49m\u001b[43m)\u001b[49m\n\u001b[0;32m   3251\u001b[0m \u001b[38;5;28mself\u001b[39m\u001b[38;5;241m.\u001b[39m_update()\n",
      "File \u001b[1;32mc:\\Users\\kanna\\AppData\\Local\\Programs\\Python\\Python312\\Lib\\turtle.py:539\u001b[0m, in \u001b[0;36mTurtleScreenBase._drawline\u001b[1;34m(self, lineitem, coordlist, fill, width, top)\u001b[0m\n\u001b[0;32m    538\u001b[0m         cl\u001b[38;5;241m.\u001b[39mappend(\u001b[38;5;241m-\u001b[39my \u001b[38;5;241m*\u001b[39m \u001b[38;5;28mself\u001b[39m\u001b[38;5;241m.\u001b[39myscale)\n\u001b[1;32m--> 539\u001b[0m     \u001b[38;5;28;43mself\u001b[39;49m\u001b[38;5;241;43m.\u001b[39;49m\u001b[43mcv\u001b[49m\u001b[38;5;241;43m.\u001b[39;49m\u001b[43mcoords\u001b[49m\u001b[43m(\u001b[49m\u001b[43mlineitem\u001b[49m\u001b[43m,\u001b[49m\u001b[43m \u001b[49m\u001b[38;5;241;43m*\u001b[39;49m\u001b[43mcl\u001b[49m\u001b[43m)\u001b[49m\n\u001b[0;32m    540\u001b[0m \u001b[38;5;28;01mif\u001b[39;00m fill \u001b[38;5;129;01mis\u001b[39;00m \u001b[38;5;129;01mnot\u001b[39;00m \u001b[38;5;28;01mNone\u001b[39;00m:\n",
      "File \u001b[1;32m<string>:1\u001b[0m, in \u001b[0;36mcoords\u001b[1;34m(self, *args, **kw)\u001b[0m\n",
      "File \u001b[1;32mc:\\Users\\kanna\\AppData\\Local\\Programs\\Python\\Python312\\Lib\\tkinter\\__init__.py:2837\u001b[0m, in \u001b[0;36mCanvas.coords\u001b[1;34m(self, *args)\u001b[0m\n\u001b[0;32m   2834\u001b[0m args \u001b[38;5;241m=\u001b[39m _flatten(args)\n\u001b[0;32m   2835\u001b[0m \u001b[38;5;28;01mreturn\u001b[39;00m [\u001b[38;5;28mself\u001b[39m\u001b[38;5;241m.\u001b[39mtk\u001b[38;5;241m.\u001b[39mgetdouble(x) \u001b[38;5;28;01mfor\u001b[39;00m x \u001b[38;5;129;01min\u001b[39;00m\n\u001b[0;32m   2836\u001b[0m                    \u001b[38;5;28mself\u001b[39m\u001b[38;5;241m.\u001b[39mtk\u001b[38;5;241m.\u001b[39msplitlist(\n\u001b[1;32m-> 2837\u001b[0m            \u001b[38;5;28;43mself\u001b[39;49m\u001b[38;5;241;43m.\u001b[39;49m\u001b[43mtk\u001b[49m\u001b[38;5;241;43m.\u001b[39;49m\u001b[43mcall\u001b[49m\u001b[43m(\u001b[49m\u001b[43m(\u001b[49m\u001b[38;5;28;43mself\u001b[39;49m\u001b[38;5;241;43m.\u001b[39;49m\u001b[43m_w\u001b[49m\u001b[43m,\u001b[49m\u001b[43m \u001b[49m\u001b[38;5;124;43m'\u001b[39;49m\u001b[38;5;124;43mcoords\u001b[39;49m\u001b[38;5;124;43m'\u001b[39;49m\u001b[43m)\u001b[49m\u001b[43m \u001b[49m\u001b[38;5;241;43m+\u001b[39;49m\u001b[43m \u001b[49m\u001b[43margs\u001b[49m\u001b[43m)\u001b[49m)]\n",
      "\u001b[1;31mTclError\u001b[0m: invalid command name \".!canvas\"",
      "\nDuring handling of the above exception, another exception occurred:\n",
      "\u001b[1;31mTerminator\u001b[0m                                Traceback (most recent call last)",
      "Cell \u001b[1;32mIn[1], line 10\u001b[0m\n\u001b[0;32m      8\u001b[0m \u001b[38;5;28;01mfor\u001b[39;00m i \u001b[38;5;129;01min\u001b[39;00m \u001b[38;5;28mrange\u001b[39m(\u001b[38;5;241m24\u001b[39m):\n\u001b[0;32m      9\u001b[0m     \u001b[38;5;28;01mfor\u001b[39;00m j \u001b[38;5;129;01min\u001b[39;00m \u001b[38;5;28mrange\u001b[39m(\u001b[38;5;241m4\u001b[39m):\n\u001b[1;32m---> 10\u001b[0m         \u001b[43mben\u001b[49m\u001b[38;5;241;43m.\u001b[39;49m\u001b[43mforward\u001b[49m\u001b[43m(\u001b[49m\u001b[38;5;241;43m200\u001b[39;49m\u001b[43m)\u001b[49m\n\u001b[0;32m     11\u001b[0m         ben\u001b[38;5;241m.\u001b[39mleft(\u001b[38;5;241m90\u001b[39m)\n\u001b[0;32m     12\u001b[0m     ben\u001b[38;5;241m.\u001b[39mleft(\u001b[38;5;241m30\u001b[39m)\n",
      "File \u001b[1;32m<string>:12\u001b[0m, in \u001b[0;36mforward\u001b[1;34m(distance)\u001b[0m\n",
      "\u001b[1;31mTerminator\u001b[0m: "
     ]
    }
   ],
   "source": [
    "#FOR LOOP INSIDE A FOR LOOP\n",
    "import turtle as ben\n",
    "\n",
    "ben.speed(3)\n",
    "ben.color(\"violet\")\n",
    "ben.pensize(5)\n",
    "\n",
    "for i in range(24):\n",
    "    for j in range(4):\n",
    "        ben.forward(200)\n",
    "        ben.left(90)\n",
    "    ben.left(30)\n",
    "ben.done()\n"
   ]
  },
  {
   "cell_type": "code",
   "execution_count": 1,
   "metadata": {},
   "outputs": [],
   "source": [
    "from turtle import *\n",
    "speed(50)\n",
    "b=200\n",
    "color('red')\n",
    "bgcolor('black')\n",
    "while b>0:\n",
    "    left(b)\n",
    "    forward(b*3)\n",
    "    b=b-1"
   ]
  },
  {
   "cell_type": "markdown",
   "metadata": {},
   "source": [
    "Practice:\n",
    "    Make some wonderful designs with Rainbow Colors(Violet,Indigo,Blue,Green,Yellow,Orange,Red)"
   ]
  }
 ],
 "metadata": {
  "kernelspec": {
   "display_name": "Python 3 (ipykernel)",
   "language": "python",
   "name": "python3"
  },
  "language_info": {
   "codemirror_mode": {
    "name": "ipython",
    "version": 3
   },
   "file_extension": ".py",
   "mimetype": "text/x-python",
   "name": "python",
   "nbconvert_exporter": "python",
   "pygments_lexer": "ipython3",
   "version": "3.12.1"
  }
 },
 "nbformat": 4,
 "nbformat_minor": 2
}
