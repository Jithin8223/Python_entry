{
 "cells": [
  {
   "cell_type": "markdown",
   "metadata": {},
   "source": [
    "# 23: WORKING WITH JSON(Java Script Object Notation)"
   ]
  },
  {
   "cell_type": "code",
   "execution_count": null,
   "metadata": {},
   "outputs": [],
   "source": [
    "adbook={}\n",
    "adbook[\"Amal\"]={\n",
    "\"name\" : \"Amal\",\n",
    "\"address\": \"1st Block, Nut Steet\",\n",
    "\"phone\": \"9786584939\"\n",
    "} \n",
    "\n",
    "adbook[\"Raju\"]={\n",
    "\"name\" : \"Raju\",\n",
    "\"address\": \"3rd Block, New Steet\",\n",
    "\"phone\": \"9798584636\"\n",
    "} \n",
    "\n",
    "print(adbook)"
   ]
  },
  {
   "cell_type": "code",
   "execution_count": 6,
   "metadata": {},
   "outputs": [
    {
     "data": {
      "text/plain": [
       "{'name': 'Raju', 'address': '3rd Block, New Steet', 'phone': '9798584636'}"
      ]
     },
     "execution_count": 6,
     "metadata": {},
     "output_type": "execute_result"
    }
   ],
   "source": [
    "adbook[\"Raju\"]"
   ]
  },
  {
   "cell_type": "code",
   "execution_count": 7,
   "metadata": {},
   "outputs": [
    {
     "data": {
      "text/plain": [
       "dict"
      ]
     },
     "execution_count": 7,
     "metadata": {},
     "output_type": "execute_result"
    }
   ],
   "source": [
    "type(adbook)"
   ]
  },
  {
   "cell_type": "code",
   "execution_count": 8,
   "metadata": {},
   "outputs": [
    {
     "name": "stdout",
     "output_type": "stream",
     "text": [
      "{\"Amal\": {\"name\": \"Amal\", \"address\": \"1st Block, Nut Steet\", \"phone\": \"9786584939\"}, \"Raju\": {\"name\": \"Raju\", \"address\": \"3rd Block, New Steet\", \"phone\": \"9798584636\"}}\n"
     ]
    }
   ],
   "source": [
    "import json\n",
    "s=json.dumps(adbook)\n",
    "print(s)"
   ]
  },
  {
   "cell_type": "code",
   "execution_count": 9,
   "metadata": {},
   "outputs": [
    {
     "data": {
      "text/plain": [
       "str"
      ]
     },
     "execution_count": 9,
     "metadata": {},
     "output_type": "execute_result"
    }
   ],
   "source": [
    "type(s)"
   ]
  },
  {
   "cell_type": "code",
   "execution_count": 10,
   "metadata": {},
   "outputs": [],
   "source": [
    "with open(\"address.json\", \"w\") as f:\n",
    "    f.write(s)"
   ]
  },
  {
   "cell_type": "code",
   "execution_count": 11,
   "metadata": {},
   "outputs": [
    {
     "name": "stdout",
     "output_type": "stream",
     "text": [
      "{\"Amal\": {\"name\": \"Amal\", \"address\": \"1st Block, Nut Steet\", \"phone\": \"9786584939\"}, \"Raju\": {\"name\": \"Raju\", \"address\": \"3rd Block, New Steet\", \"phone\": \"9798584636\"}}\n"
     ]
    }
   ],
   "source": [
    "with open(\"address.json\", \"r\") as f:\n",
    "    s=f.read()\n",
    "    print(s)"
   ]
  },
  {
   "cell_type": "code",
   "execution_count": 12,
   "metadata": {},
   "outputs": [
    {
     "data": {
      "text/plain": [
       "str"
      ]
     },
     "execution_count": 12,
     "metadata": {},
     "output_type": "execute_result"
    }
   ],
   "source": [
    "type(s)"
   ]
  },
  {
   "cell_type": "code",
   "execution_count": 13,
   "metadata": {},
   "outputs": [
    {
     "name": "stdout",
     "output_type": "stream",
     "text": [
      "{'Amal': {'name': 'Amal', 'address': '1st Block, Nut Steet', 'phone': '9786584939'}, 'Raju': {'name': 'Raju', 'address': '3rd Block, New Steet', 'phone': '9798584636'}}\n"
     ]
    },
    {
     "data": {
      "text/plain": [
       "dict"
      ]
     },
     "execution_count": 13,
     "metadata": {},
     "output_type": "execute_result"
    }
   ],
   "source": [
    "import json\n",
    "book=json.loads(s)\n",
    "print(book)\n",
    "type(book)"
   ]
  },
  {
   "cell_type": "code",
   "execution_count": 16,
   "metadata": {
    "scrolled": true
   },
   "outputs": [
    {
     "name": "stdout",
     "output_type": "stream",
     "text": [
      "{'name': 'Raju', 'address': '3rd Block, New Steet', 'phone': '9798584636'}\n"
     ]
    }
   ],
   "source": [
    "print(book[\"Raju\"])"
   ]
  },
  {
   "cell_type": "code",
   "execution_count": 17,
   "metadata": {},
   "outputs": [
    {
     "name": "stdout",
     "output_type": "stream",
     "text": [
      "3rd Block, New Steet\n"
     ]
    }
   ],
   "source": [
    "print(book[\"Raju\"]['address'])"
   ]
  },
  {
   "cell_type": "code",
   "execution_count": null,
   "metadata": {},
   "outputs": [],
   "source": []
  }
 ],
 "metadata": {
  "kernelspec": {
   "display_name": "Python 3 (ipykernel)",
   "language": "python",
   "name": "python3"
  },
  "language_info": {
   "codemirror_mode": {
    "name": "ipython",
    "version": 3
   },
   "file_extension": ".py",
   "mimetype": "text/x-python",
   "name": "python",
   "nbconvert_exporter": "python",
   "pygments_lexer": "ipython3",
   "version": "3.10.4"
  }
 },
 "nbformat": 4,
 "nbformat_minor": 2
}
