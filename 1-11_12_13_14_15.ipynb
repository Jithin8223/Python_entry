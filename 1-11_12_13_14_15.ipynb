{
 "cells": [
  {
   "cell_type": "markdown",
   "metadata": {
    "id": "i0_rGWtcuPxn"
   },
   "source": [
    "# 11: FUNCTIONS"
   ]
  },
  {
   "cell_type": "markdown",
   "metadata": {
    "id": "5K6F1tJouPxx"
   },
   "source": [
    "![](function.jpg)"
   ]
  },
  {
   "cell_type": "code",
   "execution_count": 1,
   "metadata": {
    "colab": {
     "base_uri": "https://localhost:8080/",
     "height": 380
    },
    "executionInfo": {
     "elapsed": 1428,
     "status": "error",
     "timestamp": 1647182721524,
     "user": {
      "displayName": "Anitha v m",
      "photoUrl": "https://lh3.googleusercontent.com/a-/AOh14GjJk6Sx5Tj6Srg2IyX9UcdzaeUKKLvABBNK5V_C=s64",
      "userId": "06705357179175239096"
     },
     "user_tz": -330
    },
    "id": "tOBLPxeWuPx0",
    "outputId": "276745ea-0ff2-4557-bec8-85394ab123e7"
   },
   "outputs": [],
   "source": [
    "import turtle\n",
    "\n",
    "turtle.pensize(4)\n",
    "turtle.speed(5)\n",
    "turtle.color(\"indigo\")\n",
    "\n",
    "def shape(size,sides):\n",
    "    for i in range(sides):\n",
    "        turtle.forward(size)\n",
    "        turtle.left(360/sides)"
   ]
  },
  {
   "cell_type": "code",
   "execution_count": 1,
   "metadata": {
    "id": "HGLE2V5guPx7"
   },
   "outputs": [],
   "source": [
    "import turtle\n",
    "\n",
    "turtle.pensize(4)\n",
    "turtle.speed(5)\n",
    "turtle.color(\"indigo\")\n",
    "\n",
    "def shape(size,sides):\n",
    "    for i in range(sides):\n",
    "        turtle.forward(size)\n",
    "        turtle.left(360/sides)\n",
    "\n",
    "shape(100,4)   # Calling function with values of size and sides\n",
    "turtle.done()"
   ]
  },
  {
   "cell_type": "markdown",
   "metadata": {
    "id": "KOrxXVlAuPx8"
   },
   "source": [
    "Practice:\n",
    "    For a calculator app, define four basic functions sum,sub,mul and div with 2 arguments each,\n",
    "    then show it's working by calling all these functions with some values.\n",
    "    "
   ]
  },
  {
   "cell_type": "markdown",
   "metadata": {
    "id": "clZDRMyPuPx-"
   },
   "source": [
    "# 12: VARIABLES"
   ]
  },
  {
   "cell_type": "code",
   "execution_count": 1,
   "metadata": {
    "id": "Z40Cl0fUuPx_",
    "outputId": "b4cbedea-19b5-494f-e464-417ba4b4b3d8"
   },
   "outputs": [
    {
     "name": "stdout",
     "output_type": "stream",
     "text": [
      "10\n",
      "<class 'int'>\n",
      "Ajay\n",
      "<class 'str'>\n",
      "20\n"
     ]
    },
    {
     "ename": "NameError",
     "evalue": "name 'Y' is not defined",
     "output_type": "error",
     "traceback": [
      "\u001b[1;31m---------------------------------------------------------------------------\u001b[0m",
      "\u001b[1;31mNameError\u001b[0m                                 Traceback (most recent call last)",
      "Input \u001b[1;32mIn [1]\u001b[0m, in \u001b[0;36m<cell line: 9>\u001b[1;34m()\u001b[0m\n\u001b[0;32m      7\u001b[0m y\u001b[38;5;241m=\u001b[39m\u001b[38;5;241m20\u001b[39m\n\u001b[0;32m      8\u001b[0m \u001b[38;5;28mprint\u001b[39m(y)\n\u001b[1;32m----> 9\u001b[0m \u001b[38;5;28mprint\u001b[39m(\u001b[43mY\u001b[49m)\n",
      "\u001b[1;31mNameError\u001b[0m: name 'Y' is not defined"
     ]
    }
   ],
   "source": [
    "y=10   \n",
    "name=\"Ajay\"\n",
    "print(y)\n",
    "print(type(y))\n",
    "print(name)\n",
    "print(type(name))\n",
    "y=20\n",
    "print(y)\n",
    "print(Y)"
   ]
  },
  {
   "cell_type": "code",
   "execution_count": null,
   "metadata": {
    "id": "NG8Ud-W-uPyE",
    "outputId": "224c0edf-53c6-45da-eedb-d35d1afea76a"
   },
   "outputs": [
    {
     "name": "stdout",
     "output_type": "stream",
     "text": [
      "10800\n"
     ]
    }
   ],
   "source": [
    "rent=10000\n",
    "gas=500\n",
    "gro=300\n",
    "Total=rent+gas+gro\n",
    "print(Total)"
   ]
  },
  {
   "cell_type": "code",
   "execution_count": 3,
   "metadata": {},
   "outputs": [
    {
     "name": "stdout",
     "output_type": "stream",
     "text": [
      "6500\n"
     ]
    }
   ],
   "source": [
    "paint=5000\n",
    "roller=1000\n",
    "brush=500\n",
    "Total=paint+roller+brush\n",
    "print(Total)"
   ]
  },
  {
   "cell_type": "code",
   "execution_count": null,
   "metadata": {
    "colab": {
     "base_uri": "https://localhost:8080/"
    },
    "executionInfo": {
     "elapsed": 16,
     "status": "ok",
     "timestamp": 1647874423043,
     "user": {
      "displayName": "Anitha v m",
      "photoUrl": "https://lh3.googleusercontent.com/a-/AOh14GjJk6Sx5Tj6Srg2IyX9UcdzaeUKKLvABBNK5V_C=s64",
      "userId": "06705357179175239096"
     },
     "user_tz": -330
    },
    "id": "UxMSiOc6uPyG",
    "outputId": "432be557-2839-4897-a425-af8f5b2dbec3"
   },
   "outputs": [
    {
     "name": "stdout",
     "output_type": "stream",
     "text": [
      "10960\n"
     ]
    }
   ],
   "source": [
    "rent=10100\n",
    "gas=520\n",
    "gro=340\n",
    "Total=rent+gas+gro\n",
    "print(Total)"
   ]
  },
  {
   "cell_type": "markdown",
   "metadata": {
    "id": "urQ-2x5quPyH"
   },
   "source": [
    "Variables can be with Capial Letters,Small Letters,Numbers,and Underscores(_).\n",
    "But Never start with Numbers. Also no other special characters can be used(like #%^@ )"
   ]
  },
  {
   "cell_type": "code",
   "execution_count": 4,
   "metadata": {
    "id": "PAnrmbrsuPyJ",
    "outputId": "ba1a3fde-8a48-4c78-8321-cfb63733e011"
   },
   "outputs": [
    {
     "name": "stdout",
     "output_type": "stream",
     "text": [
      "4\n",
      "55\n",
      "88\n"
     ]
    }
   ],
   "source": [
    "__=4\n",
    "print(__)\n",
    "_num=55\n",
    "print(_num)\n",
    "num_1=88\n",
    "print(num_1)"
   ]
  },
  {
   "cell_type": "code",
   "execution_count": 5,
   "metadata": {
    "id": "o-2gbpY9uPyL",
    "outputId": "05961636-17d8-4741-9881-a6e62b8b35b8"
   },
   "outputs": [
    {
     "ename": "SyntaxError",
     "evalue": "invalid decimal literal (1804519485.py, line 1)",
     "output_type": "error",
     "traceback": [
      "\u001b[1;36m  Input \u001b[1;32mIn [5]\u001b[1;36m\u001b[0m\n\u001b[1;33m    2ndNum=99\u001b[0m\n\u001b[1;37m    ^\u001b[0m\n\u001b[1;31mSyntaxError\u001b[0m\u001b[1;31m:\u001b[0m invalid decimal literal\n"
     ]
    }
   ],
   "source": [
    "2ndNum=99"
   ]
  },
  {
   "cell_type": "code",
   "execution_count": 11,
   "metadata": {
    "id": "V0xEdahnuPyM",
    "outputId": "a31b89a6-6ec8-417a-e83d-3c3ec5b59000"
   },
   "outputs": [],
   "source": [
    "book_4=100"
   ]
  },
  {
   "cell_type": "code",
   "execution_count": 9,
   "metadata": {
    "id": "Rwf4EsNBuPyN",
    "outputId": "8d6188c0-3eaa-483f-cd51-c09dca9e1229"
   },
   "outputs": [
    {
     "name": "stdout",
     "output_type": "stream",
     "text": [
      "['False', 'None', 'True', 'and', 'as', 'assert', 'async', 'await', 'break', 'class', 'continue', 'def', 'del', 'elif', 'else', 'except', 'finally', 'for', 'from', 'global', 'if', 'import', 'in', 'is', 'lambda', 'nonlocal', 'not', 'or', 'pass', 'raise', 'return', 'try', 'while', 'with', 'yield']\n"
     ]
    }
   ],
   "source": [
    "#NEVER USE KEYWORDS AS VARIABLES\n",
    "import keyword\n",
    "print(keyword.kwlist)"
   ]
  },
  {
   "cell_type": "markdown",
   "metadata": {
    "id": "VLVoyH2QuPyP"
   },
   "source": [
    "# 13: LOCAL AND GLOBAL VARIABLES"
   ]
  },
  {
   "cell_type": "code",
   "execution_count": null,
   "metadata": {
    "id": "MJwAX5zeuPyQ",
    "outputId": "d5f47e0d-60a5-436e-b17d-ae15d23a5c63"
   },
   "outputs": [
    {
     "name": "stdout",
     "output_type": "stream",
     "text": [
      "a:  300\n",
      "b:  45\n",
      "The Sum is:  345\n"
     ]
    }
   ],
   "source": [
    "def sum(a,b):\n",
    "    print(\"a: \",a)\n",
    "    print(\"b: \",b)\n",
    "    \n",
    "    total=a+b\n",
    "    print(\"The Sum is: \",total)\n",
    "    \n",
    "sum(300,45)    "
   ]
  },
  {
   "cell_type": "code",
   "execution_count": null,
   "metadata": {
    "id": "TwKNw4hnuPyR",
    "outputId": "83d8d0bb-e5a7-426c-c1d0-fc6aea1ee5c4"
   },
   "outputs": [
    {
     "name": "stdout",
     "output_type": "stream",
     "text": [
      "a:  34\n",
      "b:  400\n",
      "The Sum is:  434\n",
      "The Result is:  434\n"
     ]
    }
   ],
   "source": [
    "#RETURN\n",
    "def sum(a,b):\n",
    "    print(\"a: \",a)\n",
    "    print(\"b: \",b)\n",
    "    \n",
    "    total=a+b\n",
    "    print(\"The Sum is: \",total)\n",
    "    return total\n",
    "    \n",
    "result=sum(34,400)\n",
    "print(\"The Result is: \", result)"
   ]
  },
  {
   "cell_type": "code",
   "execution_count": null,
   "metadata": {
    "id": "rAU_TpkWuPyS",
    "outputId": "1164c516-47f1-4fd5-9cd4-0dfbffeb2c52"
   },
   "outputs": [
    {
     "name": "stdout",
     "output_type": "stream",
     "text": [
      "a:  34\n",
      "b:  45\n",
      "The Result is:  79\n",
      "The total is:  79\n"
     ]
    }
   ],
   "source": [
    "#LOCAL VARIABLE\n",
    "\n",
    "def sum(a,b):\n",
    "    print(\"a: \",a)\n",
    "    print(\"b: \",b)\n",
    "    \n",
    "    global total\n",
    "    total=a+b\n",
    "    return total\n",
    "    \n",
    "result=sum(34,45)\n",
    "print(\"The Result is: \", result)\n",
    "print(\"The total is: \",total)"
   ]
  },
  {
   "cell_type": "code",
   "execution_count": null,
   "metadata": {
    "id": "CVdBdkZNuPyU",
    "outputId": "4edf8486-d9f1-4f98-b287-8537a2b8e054"
   },
   "outputs": [
    {
     "name": "stdout",
     "output_type": "stream",
     "text": [
      "a:  25\n",
      "b:  15\n",
      "x:  10\n",
      "The Sum is:  60\n",
      "The Result is:  60\n",
      "20\n"
     ]
    }
   ],
   "source": [
    "#GLOBAL VARIABLE\n",
    "\n",
    "def sum(a,b):\n",
    "    print(\"a: \",a)\n",
    "    print(\"b: \",b)\n",
    "    global x\n",
    "    print(\"x: \",x)\n",
    "    x=20\n",
    "    total=a+b+x\n",
    "    print(\"The Sum is: \",total)\n",
    "    return total\n",
    "\n",
    "x=10\n",
    "result=sum(25,15)\n",
    "print(\"The Result is: \", result)\n",
    "print(x)"
   ]
  },
  {
   "cell_type": "code",
   "execution_count": null,
   "metadata": {
    "id": "D8R7Ok-EuPyV",
    "outputId": "ef10e4ab-57d5-43bd-9c61-5cbbd0d862a8"
   },
   "outputs": [
    {
     "name": "stdout",
     "output_type": "stream",
     "text": [
      "Enter Your First Number600\n",
      "Enter Your Second Number3000\n",
      "a:  600\n",
      "b:  3000\n",
      "The Result is:  3600\n"
     ]
    }
   ],
   "source": [
    "#WITH USER INPUTS\n",
    "\n",
    "def sum(a,b):\n",
    "    print(\"a: \",a)\n",
    "    print(\"b: \",b)\n",
    "\n",
    "    total=a+b\n",
    "    return total\n",
    "\n",
    "x=int(input(\"Enter Your First Number\"))\n",
    "y=int(input(\"Enter Your Second Number\"))\n",
    "result=sum(x,y)\n",
    "print(\"The Result is: \",result)"
   ]
  },
  {
   "cell_type": "markdown",
   "metadata": {
    "id": "OACxnmEjuPyW"
   },
   "source": [
    "# 14: DATA TYPES AND OPERATORS"
   ]
  },
  {
   "cell_type": "code",
   "execution_count": null,
   "metadata": {
    "id": "s9DMEKDJuPyW"
   },
   "outputs": [],
   "source": [
    "#Everything in Python is an object and every object in Python has a type. Some of the basic types\n",
    "include:\n",
    "    int (integer; a whole number with no decimal place)\n",
    "         10\n",
    "         -3\n",
    "    float (float; a number that has a decimal place)\n",
    "         7.41\n",
    "         -0.006\n",
    "    str (string; a sequence of characters enclosed in single quotes, double quotes, or triple\n",
    "          quotes)\n",
    "         'this is a string using single quotes'\n",
    "         \"this is a string using double quotes\"\n",
    "         '''this is a triple quoted string using single quotes'''\n",
    "         \"\"\"this is a triple quoted string using double quotes\"\"\"\n",
    "    bool (boolean; a binary value that is either true or false)\n",
    "         True\n",
    "         False\n",
    "    NoneType (a special type representing the absence of a value)\n",
    "         None          "
   ]
  },
  {
   "cell_type": "code",
   "execution_count": null,
   "metadata": {
    "id": "MRGS6o4muPyX",
    "outputId": "07688b3a-0949-420c-894c-43f647806c31"
   },
   "outputs": [
    {
     "name": "stdout",
     "output_type": "stream",
     "text": [
      "100.5\n",
      "<class 'float'>\n"
     ]
    }
   ],
   "source": [
    "#BY ASSAIGNING ITSELF IT DEFINES ITS TYPE\n",
    "num=100.5\n",
    "print(num)\n",
    "print(type(num))"
   ]
  },
  {
   "cell_type": "code",
   "execution_count": null,
   "metadata": {
    "id": "ddK_HfriuPyY",
    "outputId": "1cb38d11-9e60-4192-a67d-c53991561a9a"
   },
   "outputs": [
    {
     "name": "stdout",
     "output_type": "stream",
     "text": [
      "None\n",
      "<class 'NoneType'>\n"
     ]
    }
   ],
   "source": [
    "x=None\n",
    "print(x)\n",
    "print(type(x))"
   ]
  },
  {
   "cell_type": "code",
   "execution_count": null,
   "metadata": {
    "id": "CP2M5YJyuPyZ",
    "outputId": "6bd6aee3-0c13-4d28-a740-69e58a4555ac"
   },
   "outputs": [
    {
     "data": {
      "text/plain": [
       "float"
      ]
     },
     "execution_count": 17,
     "metadata": {},
     "output_type": "execute_result"
    }
   ],
   "source": [
    "n=-3.14\n",
    "type(n)"
   ]
  },
  {
   "cell_type": "code",
   "execution_count": null,
   "metadata": {
    "id": "wKvheZjkuPya",
    "outputId": "9885bb73-bb17-489b-9276-59ca012fd084"
   },
   "outputs": [
    {
     "data": {
      "text/plain": [
       "bool"
      ]
     },
     "execution_count": 19,
     "metadata": {},
     "output_type": "execute_result"
    }
   ],
   "source": [
    "add=True\n",
    "type(add)"
   ]
  },
  {
   "cell_type": "code",
   "execution_count": null,
   "metadata": {
    "id": "M8XKzZ_DuPya",
    "outputId": "9cbd4932-4ca2-4955-8124-9bc22c863231"
   },
   "outputs": [
    {
     "data": {
      "text/plain": [
       "(2.0, 16, 25, 8)"
      ]
     },
     "execution_count": 20,
     "metadata": {},
     "output_type": "execute_result"
    }
   ],
   "source": [
    "# BASIC OPERATORS\n",
    "\n",
    "# In Python, there are different types of operators (special symbols) that operate on different \n",
    "# values.\n",
    "# Some of the basic operators include:\n",
    "# Arithmetic operators\n",
    "#     + (addition)\n",
    "#     - (subtraction)\n",
    "#     * (multiplication)\n",
    "#     / (division)\n",
    "#     ** (exponent)\n",
    "4/2, 4**2 ,5**2,2**3"
   ]
  },
  {
   "cell_type": "code",
   "execution_count": null,
   "metadata": {
    "id": "x-EU2dtyuPyb",
    "outputId": "64b6e69c-af89-4627-8a6b-548e83551bac"
   },
   "outputs": [
    {
     "name": "stdout",
     "output_type": "stream",
     "text": [
      "5\n",
      "15\n",
      "45\n"
     ]
    }
   ],
   "source": [
    "# Assignment operators\n",
    "#     = (assign a value)\n",
    "#     += (add and re-assign; increment)\n",
    "#     -= (subtract and re-assign; decrement)\n",
    "#     *= (multiply and re-assign)\n",
    "\n",
    "m=5\n",
    "print(m)\n",
    "m*=3\n",
    "print(m)\n",
    "m*=3\n",
    "print(m)"
   ]
  },
  {
   "cell_type": "code",
   "execution_count": null,
   "metadata": {
    "id": "q4gnrJlcuPyc",
    "outputId": "55a8742f-147a-46bf-893a-cbdc58d3acd6"
   },
   "outputs": [
    {
     "data": {
      "text/plain": [
       "(True, False)"
      ]
     },
     "execution_count": 24,
     "metadata": {},
     "output_type": "execute_result"
    }
   ],
   "source": [
    "# Comparison operators (return either True or False )\n",
    "#     == (equal to)\n",
    "#     != (not equal to)\n",
    "#     < (less than)\n",
    "#     <= (less than or equal to)\n",
    "#     > (greater than)\n",
    "#     >= (greater than or equal to)\n",
    "\n",
    "5<=10,5==10"
   ]
  },
  {
   "cell_type": "code",
   "execution_count": null,
   "metadata": {
    "id": "-RDQr0y1uPyd",
    "outputId": "5faff9c1-e906-400d-dacb-d37a834fc053"
   },
   "outputs": [
    {
     "data": {
      "text/plain": [
       "False"
      ]
     },
     "execution_count": 26,
     "metadata": {},
     "output_type": "execute_result"
    }
   ],
   "source": [
    "3<1"
   ]
  },
  {
   "cell_type": "markdown",
   "metadata": {
    "id": "_1gkfHGCuPyd"
   },
   "source": [
    "# 15: STRING OPERATIONS AND SPECIAL OPERATORS"
   ]
  },
  {
   "cell_type": "code",
   "execution_count": 1,
   "metadata": {
    "colab": {
     "base_uri": "https://localhost:8080/"
    },
    "executionInfo": {
     "elapsed": 13,
     "status": "ok",
     "timestamp": 1649032294184,
     "user": {
      "displayName": "Anitha v m",
      "userId": "06705357179175239096"
     },
     "user_tz": -330
    },
    "id": "Q0UYXR-tuPye",
    "outputId": "b73c9175-49ce-41cf-ef57-2a5ddf60c8ce"
   },
   "outputs": [
    {
     "name": "stdout",
     "output_type": "stream",
     "text": [
      "I LOVE PYTHON  IT IS VERY EASY\n"
     ]
    }
   ],
   "source": [
    "#STRING CONCATENATION\n",
    "STR1=\"I LOVE PYTHON \"\n",
    "STR2= \"IT IS VERY EASY\"\n",
    "print(STR1+' '+STR2)"
   ]
  },
  {
   "cell_type": "code",
   "execution_count": null,
   "metadata": {
    "id": "z43CW2_XuPye",
    "outputId": "11ceac69-4a3a-49c3-ef5a-91fb31185b08"
   },
   "outputs": [
    {
     "data": {
      "text/plain": [
       "'I LOVE PYTHON I LOVE PYTHON I LOVE PYTHON '"
      ]
     },
     "execution_count": 32,
     "metadata": {},
     "output_type": "execute_result"
    }
   ],
   "source": [
    "STR1*3"
   ]
  },
  {
   "cell_type": "code",
   "execution_count": null,
   "metadata": {
    "id": "ZDY9aLVZuPyf",
    "outputId": "ccf428bd-9ef2-488d-c15d-30d0d074d003"
   },
   "outputs": [
    {
     "data": {
      "text/plain": [
       "'L'"
      ]
     },
     "execution_count": 35,
     "metadata": {},
     "output_type": "execute_result"
    }
   ],
   "source": [
    "#INDEX IN STRING\n",
    "STR1[2]"
   ]
  },
  {
   "cell_type": "code",
   "execution_count": null,
   "metadata": {
    "id": "G7VWuGPjuPyf",
    "outputId": "4e99fcd3-ee21-46e5-f3fe-f17d8acc5825"
   },
   "outputs": [
    {
     "data": {
      "text/plain": [
       "'N'"
      ]
     },
     "execution_count": 38,
     "metadata": {},
     "output_type": "execute_result"
    }
   ],
   "source": [
    "STR1[-2]"
   ]
  },
  {
   "cell_type": "code",
   "execution_count": null,
   "metadata": {
    "id": "L0j20Q8DuPyg",
    "outputId": "a3930175-68eb-4806-c13a-4b2b4f1dafba"
   },
   "outputs": [
    {
     "data": {
      "text/plain": [
       "'PYTHON '"
      ]
     },
     "execution_count": 40,
     "metadata": {},
     "output_type": "execute_result"
    }
   ],
   "source": [
    "STR1[7:14]"
   ]
  },
  {
   "cell_type": "code",
   "execution_count": null,
   "metadata": {
    "id": "W-5ZKD-muPyh",
    "outputId": "69b89a4b-33cd-4625-e821-7a339ed2aadb"
   },
   "outputs": [
    {
     "data": {
      "text/plain": [
       "'VERY EASY'"
      ]
     },
     "execution_count": 41,
     "metadata": {},
     "output_type": "execute_result"
    }
   ],
   "source": [
    "STR2[6:]"
   ]
  },
  {
   "cell_type": "code",
   "execution_count": null,
   "metadata": {
    "id": "PVwUVKjMuPyi",
    "outputId": "5db49e56-5cda-4f8a-f1bb-9cc5082d9508"
   },
   "outputs": [
    {
     "data": {
      "text/plain": [
       "'IT IS'"
      ]
     },
     "execution_count": 42,
     "metadata": {},
     "output_type": "execute_result"
    }
   ],
   "source": [
    "STR2[:5]"
   ]
  },
  {
   "cell_type": "code",
   "execution_count": null,
   "metadata": {
    "id": "G5VlOyouuPyj",
    "outputId": "d9d6aeb6-1e49-45fd-a8ed-95c157e98f2c"
   },
   "outputs": [
    {
     "data": {
      "text/plain": [
       "7"
      ]
     },
     "execution_count": 43,
     "metadata": {},
     "output_type": "execute_result"
    }
   ],
   "source": [
    "STR1.find(\"PYTHON\")"
   ]
  },
  {
   "cell_type": "code",
   "execution_count": null,
   "metadata": {
    "id": "YF4bYevguPyj",
    "outputId": "113dac24-2f66-449b-8497-66e0600d34e4"
   },
   "outputs": [
    {
     "data": {
      "text/plain": [
       "'it is very easy'"
      ]
     },
     "execution_count": 44,
     "metadata": {},
     "output_type": "execute_result"
    }
   ],
   "source": [
    "STR2.lower()"
   ]
  },
  {
   "cell_type": "code",
   "execution_count": null,
   "metadata": {
    "id": "supKIh5PuPyk",
    "outputId": "4dfe5c73-ec58-4949-fafe-10a07ecaa197"
   },
   "outputs": [
    {
     "data": {
      "text/plain": [
       "'I LIKE PYTHON '"
      ]
     },
     "execution_count": 45,
     "metadata": {},
     "output_type": "execute_result"
    }
   ],
   "source": [
    "STR1.replace(\"LOVE\",\"LIKE\")"
   ]
  },
  {
   "cell_type": "markdown",
   "metadata": {
    "id": "etLGHsbOuPyk"
   },
   "source": [
    "Ref: STRING METHODS\n",
    "https://docs.python.org/3/library/stdtypes.html#string-methods"
   ]
  },
  {
   "cell_type": "code",
   "execution_count": null,
   "metadata": {
    "id": "1qecyDWxuPyk",
    "outputId": "1b14aeaa-619e-4f8f-84aa-3b4381631696"
   },
   "outputs": [
    {
     "data": {
      "text/plain": [
       "2"
      ]
     },
     "execution_count": 47,
     "metadata": {},
     "output_type": "execute_result"
    }
   ],
   "source": [
    "# Special Operators\n",
    "# Floor Division\n",
    "13//6"
   ]
  },
  {
   "cell_type": "code",
   "execution_count": null,
   "metadata": {
    "id": "RtFs8c3MuPyl",
    "outputId": "febe0f8e-3da1-4e45-c356-c713109d4367"
   },
   "outputs": [
    {
     "data": {
      "text/plain": [
       "3.25"
      ]
     },
     "execution_count": 46,
     "metadata": {},
     "output_type": "execute_result"
    }
   ],
   "source": [
    "13/4"
   ]
  },
  {
   "cell_type": "code",
   "execution_count": null,
   "metadata": {
    "id": "bC5Dz8HruPym",
    "outputId": "4e0f970e-772a-4b20-d381-d369b05583b9"
   },
   "outputs": [
    {
     "data": {
      "text/plain": [
       "1"
      ]
     },
     "execution_count": 48,
     "metadata": {},
     "output_type": "execute_result"
    }
   ],
   "source": [
    "# Modulo Division\n",
    "9%2"
   ]
  },
  {
   "cell_type": "code",
   "execution_count": null,
   "metadata": {
    "id": "tjzipLFQuPym",
    "outputId": "695985f7-319b-4d11-b05b-ff26c8f7e8ae"
   },
   "outputs": [
    {
     "data": {
      "text/plain": [
       "0"
      ]
     },
     "execution_count": 49,
     "metadata": {},
     "output_type": "execute_result"
    }
   ],
   "source": [
    "6%2      #can find odd or even"
   ]
  },
  {
   "cell_type": "code",
   "execution_count": null,
   "metadata": {
    "id": "Qojh388WuPyn",
    "outputId": "c2a8be1e-c3bb-4222-b1c6-a984b7d74117"
   },
   "outputs": [
    {
     "data": {
      "text/plain": [
       "0"
      ]
     },
     "execution_count": 50,
     "metadata": {},
     "output_type": "execute_result"
    }
   ],
   "source": [
    "20%2"
   ]
  },
  {
   "cell_type": "code",
   "execution_count": null,
   "metadata": {
    "id": "AxERqtePuPyn"
   },
   "outputs": [],
   "source": []
  }
 ],
 "metadata": {
  "colab": {
   "name": "1-11_12_13_14_15.ipynb",
   "provenance": []
  },
  "kernelspec": {
   "display_name": "Python 3 (ipykernel)",
   "language": "python",
   "name": "python3"
  },
  "language_info": {
   "codemirror_mode": {
    "name": "ipython",
    "version": 3
   },
   "file_extension": ".py",
   "mimetype": "text/x-python",
   "name": "python",
   "nbconvert_exporter": "python",
   "pygments_lexer": "ipython3",
   "version": "3.12.1"
  }
 },
 "nbformat": 4,
 "nbformat_minor": 1
}
