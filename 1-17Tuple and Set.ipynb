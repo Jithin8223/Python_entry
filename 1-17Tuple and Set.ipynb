{
 "cells": [
  {
   "cell_type": "markdown",
   "metadata": {
    "id": "eK7lyG90kJqw"
   },
   "source": [
    "# 17: TUPLE and SET"
   ]
  },
  {
   "cell_type": "code",
   "execution_count": null,
   "metadata": {
    "id": "vWuKqLjEkJq8"
   },
   "outputs": [],
   "source": [
    "days=(\"SUN\",\"MON\",\"TUE\",\"WED\",\"THU\",\"FRI\",\"SAT\")"
   ]
  },
  {
   "cell_type": "code",
   "execution_count": null,
   "metadata": {
    "id": "N2ctlq2XkJrA",
    "outputId": "9adbe812-9813-4fe6-8231-63186b8d3ee2"
   },
   "outputs": [],
   "source": [
    "days"
   ]
  },
  {
   "cell_type": "code",
   "execution_count": null,
   "metadata": {
    "colab": {
     "base_uri": "https://localhost:8080/",
     "height": 165
    },
    "executionInfo": {
     "elapsed": 18,
     "status": "error",
     "timestamp": 1650820650768,
     "user": {
      "displayName": "Anitha v m",
      "userId": "06705357179175239096"
     },
     "user_tz": -330
    },
    "id": "7D7cBf0bkJrD",
    "outputId": "0b723128-ea3f-4fbf-9d4d-c7f6857d3f72"
   },
   "outputs": [],
   "source": [
    "days[1]"
   ]
  },
  {
   "cell_type": "code",
   "execution_count": null,
   "metadata": {
    "id": "qZMrnHo3kJrF",
    "outputId": "c77e3a66-f98d-47c4-c2cb-dd1d1577c9ef"
   },
   "outputs": [],
   "source": [
    "days[0]"
   ]
  },
  {
   "cell_type": "code",
   "execution_count": null,
   "metadata": {
    "id": "dpUMytWnkJrH",
    "outputId": "f5ac183a-e39d-43b6-b13a-f26d6ad90dda"
   },
   "outputs": [],
   "source": [
    "days[-2]"
   ]
  },
  {
   "cell_type": "code",
   "execution_count": null,
   "metadata": {
    "executionInfo": {
     "elapsed": 352,
     "status": "ok",
     "timestamp": 1650820741543,
     "user": {
      "displayName": "Anitha v m",
      "userId": "06705357179175239096"
     },
     "user_tz": -330
    },
    "id": "nT8cXE3mkJrI"
   },
   "outputs": [],
   "source": [
    "x=tuple(\"1\",)"
   ]
  },
  {
   "cell_type": "code",
   "execution_count": null,
   "metadata": {
    "executionInfo": {
     "elapsed": 372,
     "status": "ok",
     "timestamp": 1650820745820,
     "user": {
      "displayName": "Anitha v m",
      "userId": "06705357179175239096"
     },
     "user_tz": -330
    },
    "id": "G1DsWJ5zkJrK"
   },
   "outputs": [],
   "source": [
    "x=(1,3,5,7,9)"
   ]
  },
  {
   "cell_type": "code",
   "execution_count": null,
   "metadata": {
    "id": "unHzEW7ykJrN",
    "outputId": "a6260191-031a-478e-cbd8-a613d6bd7b99"
   },
   "outputs": [],
   "source": [
    "x"
   ]
  },
  {
   "cell_type": "code",
   "execution_count": null,
   "metadata": {
    "id": "sGbW-vH_kJrQ"
   },
   "outputs": [],
   "source": [
    "y=()"
   ]
  },
  {
   "cell_type": "code",
   "execution_count": null,
   "metadata": {
    "id": "7jvm2-ZJkJrS",
    "outputId": "7c4081ef-12e2-444d-d08c-288d8774784c"
   },
   "outputs": [],
   "source": [
    "x"
   ]
  },
  {
   "cell_type": "code",
   "execution_count": null,
   "metadata": {
    "id": "sFFqg8_ykJrU",
    "outputId": "d60f6daf-20b1-4773-9200-a7303f71ebbf"
   },
   "outputs": [],
   "source": [
    "type(y)"
   ]
  },
  {
   "cell_type": "code",
   "execution_count": null,
   "metadata": {
    "id": "HuPDFpXckJrV"
   },
   "outputs": [],
   "source": [
    "(a,b,c)=('alpha',\"beta\",\"gama\")"
   ]
  },
  {
   "cell_type": "code",
   "execution_count": null,
   "metadata": {
    "colab": {
     "base_uri": "https://localhost:8080/",
     "height": 165
    },
    "executionInfo": {
     "elapsed": 361,
     "status": "error",
     "timestamp": 1650820864498,
     "user": {
      "displayName": "Anitha v m",
      "userId": "06705357179175239096"
     },
     "user_tz": -330
    },
    "id": "8P22uncYkJrW",
    "outputId": "23c41e8a-9f5f-46b5-e900-d3f18ab55ade"
   },
   "outputs": [],
   "source": [
    "a"
   ]
  },
  {
   "cell_type": "code",
   "execution_count": null,
   "metadata": {},
   "outputs": [],
   "source": [
    "c"
   ]
  },
  {
   "cell_type": "markdown",
   "metadata": {
    "id": "dBmMh10YkJrX"
   },
   "source": [
    "SET"
   ]
  },
  {
   "cell_type": "code",
   "execution_count": null,
   "metadata": {
    "id": "Glyg5EobkJrY",
    "outputId": "c45487e4-e4ff-442b-95a1-07a669f54d8a"
   },
   "outputs": [],
   "source": [
    "set1=set([1,2,3,4,5,2,3,6,7,4,6])\n",
    "set1"
   ]
  },
  {
   "cell_type": "code",
   "execution_count": null,
   "metadata": {
    "id": "UorCngTNkJrZ",
    "outputId": "292407f0-f6e5-4a50-9671-1d2555c22f5e"
   },
   "outputs": [],
   "source": [
    "# NO INDEXING IN SET\n",
    "set1[3]"
   ]
  },
  {
   "cell_type": "code",
   "execution_count": null,
   "metadata": {
    "id": "GqBvN1e7kJrb"
   },
   "outputs": [],
   "source": [
    "set2=set([6,7,8,9,10])"
   ]
  },
  {
   "cell_type": "code",
   "execution_count": null,
   "metadata": {
    "id": "xP26nfl6kJrc",
    "outputId": "df4ca6cf-b49f-486e-b3c9-1c8ce741b69b"
   },
   "outputs": [],
   "source": [
    "set1.union(set2)"
   ]
  },
  {
   "cell_type": "code",
   "execution_count": null,
   "metadata": {
    "id": "77R-_tqGkJrd",
    "outputId": "1a3eb8c1-f0e0-4746-e4f1-4ef4cf9dd4a2"
   },
   "outputs": [],
   "source": [
    "set1.intersection(set2)"
   ]
  },
  {
   "cell_type": "code",
   "execution_count": null,
   "metadata": {
    "id": "ZqzGkRlYkJrf"
   },
   "outputs": [],
   "source": [
    "eg: students of Class and Library"
   ]
  },
  {
   "cell_type": "markdown",
   "metadata": {
    "id": "HSFlPIVukJrg"
   },
   "source": [
    "link for Ref:\n",
    "    | https://docs.python.org/3/tutorial/datastructures.html"
   ]
  }
 ],
 "metadata": {
  "colab": {
   "name": "1-17Tuple and Set.ipynb",
   "provenance": []
  },
  "kernelspec": {
   "display_name": "Python 3 (ipykernel)",
   "language": "python",
   "name": "python3"
  },
  "language_info": {
   "codemirror_mode": {
    "name": "ipython",
    "version": 3
   },
   "file_extension": ".py",
   "mimetype": "text/x-python",
   "name": "python",
   "nbconvert_exporter": "python",
   "pygments_lexer": "ipython3",
   "version": "3.11.5"
  }
 },
 "nbformat": 4,
 "nbformat_minor": 1
}
