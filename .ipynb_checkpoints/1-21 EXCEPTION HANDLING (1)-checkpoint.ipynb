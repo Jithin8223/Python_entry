{
 "cells": [
  {
   "cell_type": "markdown",
   "metadata": {},
   "source": [
    "# 21: EXCEPTION HANDLING"
   ]
  },
  {
   "cell_type": "code",
   "execution_count": 1,
   "metadata": {},
   "outputs": [
    {
     "name": "stdout",
     "output_type": "stream",
     "text": [
      "Enter 1st Number: 56\n",
      "Enter 2nd Number: 8\n",
      "The Result is:  7.0\n",
      "Our Program is Working Perfectly\n"
     ]
    }
   ],
   "source": [
    "x=input(\"Enter 1st Number: \")\n",
    "y=input(\"Enter 2nd Number: \")\n",
    "\n",
    "\n",
    "    \n",
    "z=int(x)/int(y)\n",
    "print(\"The Result is: \",z)\n",
    "\n",
    "print(\"Our Program is Working Perfectly\")\n"
   ]
  },
  {
   "cell_type": "code",
   "execution_count": null,
   "metadata": {},
   "outputs": [],
   "source": [
    "x=input(\"Enter 1st Number: \")\n",
    "y=input(\"Enter 2nd Number: \")\n",
    "\n",
    "try:\n",
    "    z=int(x)/int(y)\n",
    "except Exception as e:\n",
    "    print(e,\" Exception Happened\")\n",
    "    z=None\n",
    "    \n",
    "print(\"The Result is: \",z)\n",
    "\n",
    "print(\"Our Program is Working Perfectly\")\n"
   ]
  },
  {
   "cell_type": "code",
   "execution_count": null,
   "metadata": {},
   "outputs": [],
   "source": [
    "x=input(\"Enter 1st Number: \")\n",
    "y=input(\"Enter 2nd Number: \")\n",
    "\n",
    "try:\n",
    "    z=int(x)/int(y)\n",
    "except Exception as e:\n",
    "    print(e,\" Exception Happened\")\n",
    "    z=None\n",
    "    \n",
    "print(\"The Result is: \",z)\n",
    "\n",
    "print(\"Our Program is Working Perfectly\")\n"
   ]
  }
 ],
 "metadata": {
  "kernelspec": {
   "display_name": "Python 3 (ipykernel)",
   "language": "python",
   "name": "python3"
  },
  "language_info": {
   "codemirror_mode": {
    "name": "ipython",
    "version": 3
   },
   "file_extension": ".py",
   "mimetype": "text/x-python",
   "name": "python",
   "nbconvert_exporter": "python",
   "pygments_lexer": "ipython3",
   "version": "3.10.4"
  }
 },
 "nbformat": 4,
 "nbformat_minor": 2
}
