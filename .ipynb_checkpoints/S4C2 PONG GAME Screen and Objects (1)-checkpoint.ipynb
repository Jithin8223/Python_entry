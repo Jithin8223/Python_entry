{
 "cells": [
  {
   "cell_type": "code",
   "execution_count": null,
   "metadata": {},
   "outputs": [],
   "source": [
    "#PONG V 1\n",
    "#Game Window/Screen\n",
    "\n",
    "import turtle as t\n",
    "\n",
    "wn=t.Screen()\n",
    "wn.title(\"PONG GAME\")\n",
    "wn.bgcolor(\"black\")\n",
    "wn.setup(width=800, height=600)\n",
    "wn.tracer(0)\n",
    "\n",
    "#Main Game Loop\n",
    "while True:\n",
    "\twn.update()"
   ]
  },
  {
   "cell_type": "markdown",
   "metadata": {},
   "source": [
    "![](xny.png)"
   ]
  },
  {
   "cell_type": "code",
   "execution_count": null,
   "metadata": {},
   "outputs": [],
   "source": [
    "#PONG V 2\n",
    "#Adding Game Objects\n",
    "\n",
    "import turtle as t\n",
    "\n",
    "wn=t.Screen()\n",
    "wn.title(\"PONG GAME\")\n",
    "wn.bgcolor(\"black\")\n",
    "wn.setup(width=800, height=600)\n",
    "wn.tracer(0)\n",
    "\n",
    "#Paddle A\n",
    "\n",
    "paddle_a=t.Turtle()\n",
    "paddle_a.speed(0)\n",
    "paddle_a.color(\"purple\")\n",
    "paddle_a.shape(\"square\")  #Default Size 20*20 Pixels\n",
    "paddle_a.shapesize(stretch_wid=5,stretch_len=1) # Now 100*20\n",
    "paddle_a.penup()\n",
    "paddle_a.goto(-350,0)\n",
    "\n",
    "#Paddle B\n",
    "\n",
    "paddle_b=t.Turtle()\n",
    "paddle_b.speed(0)\n",
    "paddle_b.color(\"purple\")\n",
    "paddle_b.shape(\"square\")\n",
    "paddle_b.shapesize(stretch_wid=5,stretch_len=1)\n",
    "paddle_b.penup()\n",
    "paddle_b.goto(350,0)\n",
    "\n",
    "#Ball\n",
    "\n",
    "ball=t.Turtle()\n",
    "ball.speed(5)\n",
    "ball.color(\"yellow\")\n",
    "ball.shape(\"circle\")\n",
    "ball.penup()\n",
    "ball.goto(0,0)\n",
    "\n",
    "#Main Game Loop\n",
    "while True:\n",
    "\twn.update()"
   ]
  }
 ],
 "metadata": {
  "kernelspec": {
   "display_name": "Python 3 (ipykernel)",
   "language": "python",
   "name": "python3"
  },
  "language_info": {
   "codemirror_mode": {
    "name": "ipython",
    "version": 3
   },
   "file_extension": ".py",
   "mimetype": "text/x-python",
   "name": "python",
   "nbconvert_exporter": "python",
   "pygments_lexer": "ipython3",
   "version": "3.10.4"
  }
 },
 "nbformat": 4,
 "nbformat_minor": 2
}
