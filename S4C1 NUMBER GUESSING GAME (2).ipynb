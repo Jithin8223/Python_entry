{
 "cells": [
  {
   "cell_type": "code",
   "execution_count": 1,
   "metadata": {},
   "outputs": [
    {
     "name": "stdout",
     "output_type": "stream",
     "text": [
      "******************************************\n",
      "******************************************\n",
      "***                                    ***\n",
      "***           WELCOME STRANGER         ***\n",
      "***                TO A                ***\n",
      "***           NUMBER GUESSING          ***\n",
      "***                GAME                ***\n",
      "***                                    ***\n",
      "******************************************\n",
      "******************************************\n"
     ]
    }
   ],
   "source": [
    "import random\n",
    "\n",
    "print(\"******************************************\")\n",
    "print(\"******************************************\")\n",
    "print(\"***                                    ***\")\n",
    "print(\"***           WELCOME STRANGER         ***\")\n",
    "print(\"***                TO A                ***\")\n",
    "print(\"***           NUMBER GUESSING          ***\")\n",
    "print(\"***                GAME                ***\")\n",
    "print(\"***                                    ***\")\n",
    "print(\"******************************************\")\n",
    "print(\"******************************************\")\n",
    "\n",
    "answer = random.randint(0, 24)"
   ]
  },
  {
   "cell_type": "code",
   "execution_count": 2,
   "metadata": {},
   "outputs": [
    {
     "name": "stdout",
     "output_type": "stream",
     "text": [
      "7\n"
     ]
    }
   ],
   "source": [
    "print(answer)"
   ]
  },
  {
   "cell_type": "code",
   "execution_count": null,
   "metadata": {},
   "outputs": [],
   "source": [
    "def easy_mode():\n",
    "    print(\"PLEASE GUESS A NUMBER BELOW 25\")\n",
    "    \n",
    "    user_guess = int(input(\"> \"))\n",
    "\n",
    "    if user_guess == answer:\n",
    "        print(\"\\n***You have won, but at what cost???\")\n",
    "\n",
    "    elif user_guess > answer:\n",
    "        print(\"@@@You went higher than the actual answer@@@\\n\")\n",
    "        easy_mode()\n",
    "\n",
    "    elif user_guess < answer:\n",
    "        print(\"@@@You went lower than the actual answer@@@\\n\")\n",
    "        easy_mode()\n",
    "            \n",
    "easy_mode()"
   ]
  },
  {
   "cell_type": "code",
   "execution_count": null,
   "metadata": {
    "scrolled": true
   },
   "outputs": [],
   "source": [
    "def easy_mode():\n",
    "    print(\"PLEASE GUESS A NUMBER BELOW 25\")\n",
    "\n",
    "    try:\n",
    "        user_guess = int(input(\"> \"))\n",
    "\n",
    "        if user_guess == answer:\n",
    "            print(\"\\n***You have won, but at what cost???\")\n",
    "\n",
    "        elif user_guess > answer:\n",
    "            print(\"@@@You went higher than the actual answer@@@\\n\")\n",
    "            easy_mode()\n",
    "\n",
    "        elif user_guess < answer:\n",
    "            print(\"@@@You went lower than the actual answer@@@\\n\")\n",
    "            easy_mode()\n",
    "        \n",
    "\n",
    "    except ValueError:\n",
    "        print(\"!!!Please enter a number!!!\")\n",
    "        easy_mode()\n",
    "easy_mode()        "
   ]
  },
  {
   "cell_type": "code",
   "execution_count": null,
   "metadata": {},
   "outputs": [],
   "source": [
    "def hard_mode():\n",
    "    print(\"PLEASE GUESS A NUMBER BELOW 24\")\n",
    "    try:\n",
    "\n",
    "        tries = 0\n",
    "        while tries < 5:\n",
    "            user_guess = int(input(\"> \"))\n",
    "\n",
    "            if user_guess == answer:\n",
    "                print()\n",
    "                print(\"***You have won, but at what cost???\")\n",
    "                break\n",
    "\n",
    "            elif user_guess > answer:\n",
    "                print(\"@@@You went higher than the actual answer@@@\\n\")\n",
    "                tries += 1\n",
    "                if tries == 5:\n",
    "                    print(f\"\\n@@@You failed at guessing the correct number. You had {tries} tries@@@\")\n",
    "                else:\n",
    "                    print(\"PLEASE GUESS THE NUMBER: \")\n",
    "\n",
    "            elif user_guess < answer:\n",
    "                print(\"@@@You went lower than the actual answer@@@\\n\")\n",
    "                tries += 1\n",
    "                if tries == 5:\n",
    "                    print(f\"\\n@@@You failed at guessing the correct number. You had {tries} tries@@@\")\n",
    "                else:\n",
    "                    print(\"PLEASE GUESS THE NUMBER: \")\n",
    "    except ValueError:\n",
    "        print(\"Please enter a number!!! \")\n",
    "        hard_mode()\n",
    "                          \n",
    "hard_mode()"
   ]
  },
  {
   "cell_type": "code",
   "execution_count": null,
   "metadata": {},
   "outputs": [],
   "source": [
    "def pre_game():\n",
    "    print(\"How would you like to play? EASY or HARD?\")\n",
    "    print(\"Press 1 for EASY and 2 for HARD and 3 for HELP\")\n",
    "    operation = input(\">\")\n",
    "\n",
    "    if operation == \"1\":\n",
    "        easy_mode()\n",
    "\n",
    "    elif operation == \"2\":\n",
    "        hard_mode()\n",
    "\n",
    "    elif operation == \"3\":\n",
    "        print(\"\\n***In EASY mode you have unlimited tries.***\\n***And in HARD mode, you only have 5 tries.***\\n\")\n",
    "        pre_game()\n",
    "\n",
    "\n",
    "pre_game()"
   ]
  },
  {
   "cell_type": "code",
   "execution_count": null,
   "metadata": {},
   "outputs": [],
   "source": []
  },
  {
   "cell_type": "code",
   "execution_count": null,
   "metadata": {},
   "outputs": [],
   "source": []
  }
 ],
 "metadata": {
  "kernelspec": {
   "display_name": "Python 3 (ipykernel)",
   "language": "python",
   "name": "python3"
  },
  "language_info": {
   "codemirror_mode": {
    "name": "ipython",
    "version": 3
   },
   "file_extension": ".py",
   "mimetype": "text/x-python",
   "name": "python",
   "nbconvert_exporter": "python",
   "pygments_lexer": "ipython3",
   "version": "3.10.4"
  }
 },
 "nbformat": 4,
 "nbformat_minor": 2
}
