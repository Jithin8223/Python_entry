{
 "cells": [
  {
   "cell_type": "code",
   "execution_count": null,
   "metadata": {},
   "outputs": [],
   "source": [
    "#PONG V 1\n",
    "#Game Window/Screen\n",
    "\n",
    "import turtle as t\n",
    "\n",
    "wn=t.Screen()\n",
    "wn.title(\"PONG GAME\")\n",
    "wn.bgcolor(\"black\")\n",
    "wn.setup(width=800, height=600)\n",
    "wn.tracer(0)\n",
    "\n",
    "#Main Game Loop\n",
    "while True:\n",
    "\twn.update()"
   ]
  },
  {
   "cell_type": "markdown",
   "metadata": {},
   "source": [
    "![](xny.png)"
   ]
  },
  {
   "cell_type": "code",
   "execution_count": 1,
   "metadata": {},
   "outputs": [
    {
     "ename": "Terminator",
     "evalue": "",
     "output_type": "error",
     "traceback": [
      "\u001b[1;31m---------------------------------------------------------------------------\u001b[0m",
      "\u001b[1;31mTerminator\u001b[0m                                Traceback (most recent call last)",
      "Cell \u001b[1;32mIn[1], line 43\u001b[0m\n\u001b[0;32m     41\u001b[0m \u001b[38;5;66;03m#Main Game Loop\u001b[39;00m\n\u001b[0;32m     42\u001b[0m \u001b[38;5;28;01mwhile\u001b[39;00m \u001b[38;5;28;01mTrue\u001b[39;00m:\n\u001b[1;32m---> 43\u001b[0m \t\u001b[43mwn\u001b[49m\u001b[38;5;241;43m.\u001b[39;49m\u001b[43mupdate\u001b[49m\u001b[43m(\u001b[49m\u001b[43m)\u001b[49m\n",
      "File \u001b[1;32mc:\\Users\\kanna\\AppData\\Local\\Programs\\Python\\Python312\\Lib\\turtle.py:1295\u001b[0m, in \u001b[0;36mTurtleScreen.update\u001b[1;34m(self)\u001b[0m\n\u001b[0;32m   1293\u001b[0m \u001b[38;5;28mself\u001b[39m\u001b[38;5;241m.\u001b[39m_tracing \u001b[38;5;241m=\u001b[39m \u001b[38;5;28;01mTrue\u001b[39;00m\n\u001b[0;32m   1294\u001b[0m \u001b[38;5;28;01mfor\u001b[39;00m t \u001b[38;5;129;01min\u001b[39;00m \u001b[38;5;28mself\u001b[39m\u001b[38;5;241m.\u001b[39mturtles():\n\u001b[1;32m-> 1295\u001b[0m     \u001b[43mt\u001b[49m\u001b[38;5;241;43m.\u001b[39;49m\u001b[43m_update_data\u001b[49m\u001b[43m(\u001b[49m\u001b[43m)\u001b[49m\n\u001b[0;32m   1296\u001b[0m     t\u001b[38;5;241m.\u001b[39m_drawturtle()\n\u001b[0;32m   1297\u001b[0m \u001b[38;5;28mself\u001b[39m\u001b[38;5;241m.\u001b[39m_tracing \u001b[38;5;241m=\u001b[39m tracing\n",
      "File \u001b[1;32mc:\\Users\\kanna\\AppData\\Local\\Programs\\Python\\Python312\\Lib\\turtle.py:2654\u001b[0m, in \u001b[0;36mRawTurtle._update_data\u001b[1;34m(self)\u001b[0m\n\u001b[0;32m   2653\u001b[0m \u001b[38;5;28;01mdef\u001b[39;00m \u001b[38;5;21m_update_data\u001b[39m(\u001b[38;5;28mself\u001b[39m):\n\u001b[1;32m-> 2654\u001b[0m     \u001b[38;5;28;43mself\u001b[39;49m\u001b[38;5;241;43m.\u001b[39;49m\u001b[43mscreen\u001b[49m\u001b[38;5;241;43m.\u001b[39;49m\u001b[43m_incrementudc\u001b[49m\u001b[43m(\u001b[49m\u001b[43m)\u001b[49m\n\u001b[0;32m   2655\u001b[0m     \u001b[38;5;28;01mif\u001b[39;00m \u001b[38;5;28mself\u001b[39m\u001b[38;5;241m.\u001b[39mscreen\u001b[38;5;241m.\u001b[39m_updatecounter \u001b[38;5;241m!=\u001b[39m \u001b[38;5;241m0\u001b[39m:\n\u001b[0;32m   2656\u001b[0m         \u001b[38;5;28;01mreturn\u001b[39;00m\n",
      "File \u001b[1;32mc:\\Users\\kanna\\AppData\\Local\\Programs\\Python\\Python312\\Lib\\turtle.py:1284\u001b[0m, in \u001b[0;36mTurtleScreen._incrementudc\u001b[1;34m(self)\u001b[0m\n\u001b[0;32m   1282\u001b[0m \u001b[38;5;28;01mif\u001b[39;00m \u001b[38;5;129;01mnot\u001b[39;00m TurtleScreen\u001b[38;5;241m.\u001b[39m_RUNNING:\n\u001b[0;32m   1283\u001b[0m     TurtleScreen\u001b[38;5;241m.\u001b[39m_RUNNING \u001b[38;5;241m=\u001b[39m \u001b[38;5;28;01mTrue\u001b[39;00m\n\u001b[1;32m-> 1284\u001b[0m     \u001b[38;5;28;01mraise\u001b[39;00m Terminator\n\u001b[0;32m   1285\u001b[0m \u001b[38;5;28;01mif\u001b[39;00m \u001b[38;5;28mself\u001b[39m\u001b[38;5;241m.\u001b[39m_tracing \u001b[38;5;241m>\u001b[39m \u001b[38;5;241m0\u001b[39m:\n\u001b[0;32m   1286\u001b[0m     \u001b[38;5;28mself\u001b[39m\u001b[38;5;241m.\u001b[39m_updatecounter \u001b[38;5;241m+\u001b[39m\u001b[38;5;241m=\u001b[39m \u001b[38;5;241m1\u001b[39m\n",
      "\u001b[1;31mTerminator\u001b[0m: "
     ]
    }
   ],
   "source": [
    "#PONG V 2\n",
    "#Adding Game Objects\n",
    "\n",
    "import turtle as t\n",
    "\n",
    "wn=t.Screen()\n",
    "wn.title(\"PONG GAME\")\n",
    "wn.bgcolor(\"black\")\n",
    "wn.setup(width=800, height=600)\n",
    "wn.tracer(0)\n",
    "\n",
    "#Paddle A\n",
    "\n",
    "paddle_a=t.Turtle()\n",
    "paddle_a.speed(0)\n",
    "paddle_a.color(\"purple\")\n",
    "paddle_a.shape(\"square\")  #Default Size 20*20 Pixels\n",
    "paddle_a.shapesize(stretch_wid=5,stretch_len=1) # Now 100*20\n",
    "paddle_a.penup()\n",
    "paddle_a.goto(-350,0)\n",
    "\n",
    "#Paddle B\n",
    "\n",
    "paddle_b=t.Turtle()\n",
    "paddle_b.speed(0)\n",
    "paddle_b.color(\"purple\")\n",
    "paddle_b.shape(\"square\")\n",
    "paddle_b.shapesize(stretch_wid=5,stretch_len=1)\n",
    "paddle_b.penup()\n",
    "paddle_b.goto(350,0)\n",
    "\n",
    "#Ball\n",
    "\n",
    "ball=t.Turtle()\n",
    "ball.speed(5)\n",
    "ball.color(\"yellow\")\n",
    "ball.shape(\"circle\")\n",
    "ball.penup()\n",
    "ball.goto(0,0)\n",
    "\n",
    "#Main Game Loop\n",
    "while True:\n",
    "\twn.update()"
   ]
  }
 ],
 "metadata": {
  "kernelspec": {
   "display_name": "Python 3 (ipykernel)",
   "language": "python",
   "name": "python3"
  },
  "language_info": {
   "codemirror_mode": {
    "name": "ipython",
    "version": 3
   },
   "file_extension": ".py",
   "mimetype": "text/x-python",
   "name": "python",
   "nbconvert_exporter": "python",
   "pygments_lexer": "ipython3",
   "version": "3.12.1"
  }
 },
 "nbformat": 4,
 "nbformat_minor": 2
}
