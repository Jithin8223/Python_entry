{
 "cells": [
  {
   "cell_type": "code",
   "execution_count": 1,
   "id": "8b96f7e8",
   "metadata": {},
   "outputs": [
    {
     "ename": "NameError",
     "evalue": "name 'adbook' is not defined",
     "output_type": "error",
     "traceback": [
      "\u001b[1;31m---------------------------------------------------------------------------\u001b[0m",
      "\u001b[1;31mNameError\u001b[0m                                 Traceback (most recent call last)",
      "Input \u001b[1;32mIn [1]\u001b[0m, in \u001b[0;36m<cell line: 2>\u001b[1;34m()\u001b[0m\n\u001b[0;32m      1\u001b[0m \u001b[38;5;28;01mimport\u001b[39;00m \u001b[38;5;21;01mjson\u001b[39;00m\n\u001b[1;32m----> 2\u001b[0m s\u001b[38;5;241m=\u001b[39mjson\u001b[38;5;241m.\u001b[39mdumps(\u001b[43madbook\u001b[49m)\n\u001b[0;32m      3\u001b[0m \u001b[38;5;28mprint\u001b[39m(s)\n",
      "\u001b[1;31mNameError\u001b[0m: name 'adbook' is not defined"
     ]
    }
   ],
   "source": [
    "import json\n",
    "s=json.dumps(adbook)\n",
    "print(s)"
   ]
  },
  {
   "cell_type": "code",
   "execution_count": null,
   "id": "43a78d52",
   "metadata": {},
   "outputs": [],
   "source": [
    "adbook={}\n",
    "adbook[\"Amal\"]={\n",
    "\"name\" : \"Amal\",\n",
    "\"address\": \"1st Block, Nut Steet\",\n",
    "\"phone\": \"9786584939\"\n",
    "} \n",
    "\n",
    "adbook[\"Raju\"]={\n",
    "\"name\" : \"Raju\",\n",
    "\"address\": \"3rd Block, New Steet\",\n",
    "\"phone\": \"9798584636\"\n",
    "} \n",
    "\n",
    "print(adbook)"
   ]
  },
  {
   "cell_type": "code",
   "execution_count": 2,
   "id": "a893b482",
   "metadata": {},
   "outputs": [
    {
     "ename": "NameError",
     "evalue": "name 'adbook' is not defined",
     "output_type": "error",
     "traceback": [
      "\u001b[1;31m---------------------------------------------------------------------------\u001b[0m",
      "\u001b[1;31mNameError\u001b[0m                                 Traceback (most recent call last)",
      "Input \u001b[1;32mIn [2]\u001b[0m, in \u001b[0;36m<cell line: 2>\u001b[1;34m()\u001b[0m\n\u001b[0;32m      1\u001b[0m \u001b[38;5;28;01mimport\u001b[39;00m \u001b[38;5;21;01mjson\u001b[39;00m\n\u001b[1;32m----> 2\u001b[0m s\u001b[38;5;241m=\u001b[39mjson\u001b[38;5;241m.\u001b[39mdumps(\u001b[43madbook\u001b[49m)\n\u001b[0;32m      3\u001b[0m \u001b[38;5;28mprint\u001b[39m(s)\n",
      "\u001b[1;31mNameError\u001b[0m: name 'adbook' is not defined"
     ]
    }
   ],
   "source": [
    "import json\n",
    "s=json.dumps(adbook)\n",
    "print(s)"
   ]
  },
  {
   "cell_type": "code",
   "execution_count": null,
   "id": "389194c9",
   "metadata": {},
   "outputs": [],
   "source": []
  }
 ],
 "metadata": {
  "kernelspec": {
   "display_name": "Python 3 (ipykernel)",
   "language": "python",
   "name": "python3"
  },
  "language_info": {
   "codemirror_mode": {
    "name": "ipython",
    "version": 3
   },
   "file_extension": ".py",
   "mimetype": "text/x-python",
   "name": "python",
   "nbconvert_exporter": "python",
   "pygments_lexer": "ipython3",
   "version": "3.10.4"
  }
 },
 "nbformat": 4,
 "nbformat_minor": 5
}
